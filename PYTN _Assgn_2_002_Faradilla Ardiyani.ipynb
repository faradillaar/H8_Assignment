{
 "cells": [
  {
   "cell_type": "markdown",
   "id": "7dcbfad2",
   "metadata": {},
   "source": [
    "# Assignment 2"
   ]
  },
  {
   "cell_type": "markdown",
   "id": "8aabe761",
   "metadata": {},
   "source": [
    "Faradilla Ardiyani | PYTN-KS02-005 | Studi Independen"
   ]
  },
  {
   "cell_type": "markdown",
   "id": "d709e032",
   "metadata": {},
   "source": [
    "## Project Overview"
   ]
  },
  {
   "cell_type": "markdown",
   "id": "5a325af6",
   "metadata": {},
   "source": [
    "Using what you’ve learned; download the NYC Property Sales Dataset from Kaggle. This dataset is a record of every building or building unit (apartment, etc.) sold in the New York City property market over a 12-month period.\n",
    "\n",
    "This dataset contains the location, address, type, sale price, and sale date of building units sold. A reference on the trickier fields:\n",
    "\n",
    "- BOROUGH: A digit code for the borough the property is located in; in order these are Manhattan (1), Bronx (2), Brooklyn (3), Queens (4), and Staten Island (5).\n",
    "- BLOCK; LOT: The combination of borough, block, and lot forms a unique key for property in New York City. Commonly called a BBL.\n",
    "- BUILDING CLASS AT PRESENT and BUILDING CLASS AT TIME OF SALE: The type of building at various points in time.\n",
    "\n",
    "Note that because this is a financial transaction dataset, there are some points that need to be kept in mind:\n",
    "\n",
    "- Many sales occur with a nonsensically small dollar amount: $0 most commonly. These sales are actually transfers of deeds between parties: for example, parents transferring ownership to their home to a child after moving out for retirement.\n",
    "- This dataset uses the financial definition of a building/building unit, for tax purposes. In case a single entity owns the building in question, a sale covers the value of the entire building. In case a building is owned piecemeal by its residents (a condominium), a sale refers to a single apartment (or group of apartments) owned by some individual.\n",
    "\n",
    "Formulate a question and derive a statistical hypothesis test to answer the question. You have to demonstrate that you’re able to make decisions using data in a scientific manner. Examples of questions can be:\n",
    "\n",
    "- Is there a difference in unit sold between property built in 1900-2000 and 2001 so on?\n",
    "- Is there a difference in unit sold based on building category?\n",
    "- What can you discover about New York City real estate by looking at a year's worth of raw transaction records? Can you spot trends in the market?"
   ]
  },
  {
   "cell_type": "markdown",
   "id": "06d01721",
   "metadata": {},
   "source": [
    "## Import Libraries"
   ]
  },
  {
   "cell_type": "code",
   "execution_count": 1,
   "id": "a813d221",
   "metadata": {},
   "outputs": [],
   "source": [
    "import pandas as pd \n",
    "import numpy as np\n",
    "import statistics\n",
    "import matplotlib.pyplot as plt\n",
    "import seaborn as sns\n",
    "import statsmodels.api as sm"
   ]
  },
  {
   "cell_type": "markdown",
   "id": "4882c215",
   "metadata": {},
   "source": [
    "## Import Dataset"
   ]
  },
  {
   "cell_type": "markdown",
   "id": "8706e72f",
   "metadata": {},
   "source": [
    "Dataset berisi tentang NYC Property Sales dari kaggle (https://www.kaggle.com/new-york-city/nyc-property-sales)"
   ]
  },
  {
   "cell_type": "code",
   "execution_count": 2,
   "id": "5a8f0fa3",
   "metadata": {},
   "outputs": [],
   "source": [
    "# Memasukkan non-standar missing value ke dalam dataset\n",
    "missing_values = ['n/a', 'na', \"--\", \"?\", \"NA\", 'n-a', 'NaN',' ','-']\n",
    "df = pd.read_csv('nyc-rolling-sales.csv', na_values=missing_values)"
   ]
  },
  {
   "cell_type": "markdown",
   "id": "72a0c0bc",
   "metadata": {},
   "source": [
    "## Data Understanding"
   ]
  },
  {
   "cell_type": "code",
   "execution_count": 3,
   "id": "4851ad30",
   "metadata": {},
   "outputs": [
    {
     "data": {
      "text/html": [
       "<div>\n",
       "<style scoped>\n",
       "    .dataframe tbody tr th:only-of-type {\n",
       "        vertical-align: middle;\n",
       "    }\n",
       "\n",
       "    .dataframe tbody tr th {\n",
       "        vertical-align: top;\n",
       "    }\n",
       "\n",
       "    .dataframe thead th {\n",
       "        text-align: right;\n",
       "    }\n",
       "</style>\n",
       "<table border=\"1\" class=\"dataframe\">\n",
       "  <thead>\n",
       "    <tr style=\"text-align: right;\">\n",
       "      <th></th>\n",
       "      <th>Unnamed: 0</th>\n",
       "      <th>BOROUGH</th>\n",
       "      <th>NEIGHBORHOOD</th>\n",
       "      <th>BUILDING CLASS CATEGORY</th>\n",
       "      <th>TAX CLASS AT PRESENT</th>\n",
       "      <th>BLOCK</th>\n",
       "      <th>LOT</th>\n",
       "      <th>EASE-MENT</th>\n",
       "      <th>BUILDING CLASS AT PRESENT</th>\n",
       "      <th>ADDRESS</th>\n",
       "      <th>...</th>\n",
       "      <th>RESIDENTIAL UNITS</th>\n",
       "      <th>COMMERCIAL UNITS</th>\n",
       "      <th>TOTAL UNITS</th>\n",
       "      <th>LAND SQUARE FEET</th>\n",
       "      <th>GROSS SQUARE FEET</th>\n",
       "      <th>YEAR BUILT</th>\n",
       "      <th>TAX CLASS AT TIME OF SALE</th>\n",
       "      <th>BUILDING CLASS AT TIME OF SALE</th>\n",
       "      <th>SALE PRICE</th>\n",
       "      <th>SALE DATE</th>\n",
       "    </tr>\n",
       "  </thead>\n",
       "  <tbody>\n",
       "    <tr>\n",
       "      <th>0</th>\n",
       "      <td>4</td>\n",
       "      <td>1</td>\n",
       "      <td>ALPHABET CITY</td>\n",
       "      <td>07 RENTALS - WALKUP APARTMENTS</td>\n",
       "      <td>2A</td>\n",
       "      <td>392</td>\n",
       "      <td>6</td>\n",
       "      <td>NaN</td>\n",
       "      <td>C2</td>\n",
       "      <td>153 AVENUE B</td>\n",
       "      <td>...</td>\n",
       "      <td>5</td>\n",
       "      <td>0</td>\n",
       "      <td>5</td>\n",
       "      <td>1633</td>\n",
       "      <td>6440</td>\n",
       "      <td>1900</td>\n",
       "      <td>2</td>\n",
       "      <td>C2</td>\n",
       "      <td>6625000</td>\n",
       "      <td>2017-07-19 00:00:00</td>\n",
       "    </tr>\n",
       "    <tr>\n",
       "      <th>1</th>\n",
       "      <td>5</td>\n",
       "      <td>1</td>\n",
       "      <td>ALPHABET CITY</td>\n",
       "      <td>07 RENTALS - WALKUP APARTMENTS</td>\n",
       "      <td>2</td>\n",
       "      <td>399</td>\n",
       "      <td>26</td>\n",
       "      <td>NaN</td>\n",
       "      <td>C7</td>\n",
       "      <td>234 EAST 4TH   STREET</td>\n",
       "      <td>...</td>\n",
       "      <td>28</td>\n",
       "      <td>3</td>\n",
       "      <td>31</td>\n",
       "      <td>4616</td>\n",
       "      <td>18690</td>\n",
       "      <td>1900</td>\n",
       "      <td>2</td>\n",
       "      <td>C7</td>\n",
       "      <td>-</td>\n",
       "      <td>2016-12-14 00:00:00</td>\n",
       "    </tr>\n",
       "    <tr>\n",
       "      <th>2</th>\n",
       "      <td>6</td>\n",
       "      <td>1</td>\n",
       "      <td>ALPHABET CITY</td>\n",
       "      <td>07 RENTALS - WALKUP APARTMENTS</td>\n",
       "      <td>2</td>\n",
       "      <td>399</td>\n",
       "      <td>39</td>\n",
       "      <td>NaN</td>\n",
       "      <td>C7</td>\n",
       "      <td>197 EAST 3RD   STREET</td>\n",
       "      <td>...</td>\n",
       "      <td>16</td>\n",
       "      <td>1</td>\n",
       "      <td>17</td>\n",
       "      <td>2212</td>\n",
       "      <td>7803</td>\n",
       "      <td>1900</td>\n",
       "      <td>2</td>\n",
       "      <td>C7</td>\n",
       "      <td>-</td>\n",
       "      <td>2016-12-09 00:00:00</td>\n",
       "    </tr>\n",
       "    <tr>\n",
       "      <th>3</th>\n",
       "      <td>7</td>\n",
       "      <td>1</td>\n",
       "      <td>ALPHABET CITY</td>\n",
       "      <td>07 RENTALS - WALKUP APARTMENTS</td>\n",
       "      <td>2B</td>\n",
       "      <td>402</td>\n",
       "      <td>21</td>\n",
       "      <td>NaN</td>\n",
       "      <td>C4</td>\n",
       "      <td>154 EAST 7TH STREET</td>\n",
       "      <td>...</td>\n",
       "      <td>10</td>\n",
       "      <td>0</td>\n",
       "      <td>10</td>\n",
       "      <td>2272</td>\n",
       "      <td>6794</td>\n",
       "      <td>1913</td>\n",
       "      <td>2</td>\n",
       "      <td>C4</td>\n",
       "      <td>3936272</td>\n",
       "      <td>2016-09-23 00:00:00</td>\n",
       "    </tr>\n",
       "    <tr>\n",
       "      <th>4</th>\n",
       "      <td>8</td>\n",
       "      <td>1</td>\n",
       "      <td>ALPHABET CITY</td>\n",
       "      <td>07 RENTALS - WALKUP APARTMENTS</td>\n",
       "      <td>2A</td>\n",
       "      <td>404</td>\n",
       "      <td>55</td>\n",
       "      <td>NaN</td>\n",
       "      <td>C2</td>\n",
       "      <td>301 EAST 10TH   STREET</td>\n",
       "      <td>...</td>\n",
       "      <td>6</td>\n",
       "      <td>0</td>\n",
       "      <td>6</td>\n",
       "      <td>2369</td>\n",
       "      <td>4615</td>\n",
       "      <td>1900</td>\n",
       "      <td>2</td>\n",
       "      <td>C2</td>\n",
       "      <td>8000000</td>\n",
       "      <td>2016-11-17 00:00:00</td>\n",
       "    </tr>\n",
       "  </tbody>\n",
       "</table>\n",
       "<p>5 rows × 22 columns</p>\n",
       "</div>"
      ],
      "text/plain": [
       "   Unnamed: 0  BOROUGH   NEIGHBORHOOD  \\\n",
       "0           4        1  ALPHABET CITY   \n",
       "1           5        1  ALPHABET CITY   \n",
       "2           6        1  ALPHABET CITY   \n",
       "3           7        1  ALPHABET CITY   \n",
       "4           8        1  ALPHABET CITY   \n",
       "\n",
       "                       BUILDING CLASS CATEGORY TAX CLASS AT PRESENT  BLOCK  \\\n",
       "0  07 RENTALS - WALKUP APARTMENTS                                2A    392   \n",
       "1  07 RENTALS - WALKUP APARTMENTS                                 2    399   \n",
       "2  07 RENTALS - WALKUP APARTMENTS                                 2    399   \n",
       "3  07 RENTALS - WALKUP APARTMENTS                                2B    402   \n",
       "4  07 RENTALS - WALKUP APARTMENTS                                2A    404   \n",
       "\n",
       "   LOT  EASE-MENT BUILDING CLASS AT PRESENT                 ADDRESS  ...  \\\n",
       "0    6        NaN                        C2            153 AVENUE B  ...   \n",
       "1   26        NaN                        C7   234 EAST 4TH   STREET  ...   \n",
       "2   39        NaN                        C7   197 EAST 3RD   STREET  ...   \n",
       "3   21        NaN                        C4     154 EAST 7TH STREET  ...   \n",
       "4   55        NaN                        C2  301 EAST 10TH   STREET  ...   \n",
       "\n",
       "  RESIDENTIAL UNITS  COMMERCIAL UNITS  TOTAL UNITS  LAND SQUARE FEET  \\\n",
       "0                 5                 0            5              1633   \n",
       "1                28                 3           31              4616   \n",
       "2                16                 1           17              2212   \n",
       "3                10                 0           10              2272   \n",
       "4                 6                 0            6              2369   \n",
       "\n",
       "   GROSS SQUARE FEET YEAR BUILT TAX CLASS AT TIME OF SALE  \\\n",
       "0               6440       1900                         2   \n",
       "1              18690       1900                         2   \n",
       "2               7803       1900                         2   \n",
       "3               6794       1913                         2   \n",
       "4               4615       1900                         2   \n",
       "\n",
       "   BUILDING CLASS AT TIME OF SALE  SALE PRICE            SALE DATE  \n",
       "0                              C2     6625000  2017-07-19 00:00:00  \n",
       "1                              C7         -    2016-12-14 00:00:00  \n",
       "2                              C7         -    2016-12-09 00:00:00  \n",
       "3                              C4     3936272  2016-09-23 00:00:00  \n",
       "4                              C2     8000000  2016-11-17 00:00:00  \n",
       "\n",
       "[5 rows x 22 columns]"
      ]
     },
     "execution_count": 3,
     "metadata": {},
     "output_type": "execute_result"
    }
   ],
   "source": [
    "# Menampilkan baris 5 data teratas\n",
    "df.head()"
   ]
  },
  {
   "cell_type": "code",
   "execution_count": 4,
   "id": "a67d4f10",
   "metadata": {},
   "outputs": [
    {
     "data": {
      "text/html": [
       "<div>\n",
       "<style scoped>\n",
       "    .dataframe tbody tr th:only-of-type {\n",
       "        vertical-align: middle;\n",
       "    }\n",
       "\n",
       "    .dataframe tbody tr th {\n",
       "        vertical-align: top;\n",
       "    }\n",
       "\n",
       "    .dataframe thead th {\n",
       "        text-align: right;\n",
       "    }\n",
       "</style>\n",
       "<table border=\"1\" class=\"dataframe\">\n",
       "  <thead>\n",
       "    <tr style=\"text-align: right;\">\n",
       "      <th></th>\n",
       "      <th>Unnamed: 0</th>\n",
       "      <th>BOROUGH</th>\n",
       "      <th>NEIGHBORHOOD</th>\n",
       "      <th>BUILDING CLASS CATEGORY</th>\n",
       "      <th>TAX CLASS AT PRESENT</th>\n",
       "      <th>BLOCK</th>\n",
       "      <th>LOT</th>\n",
       "      <th>EASE-MENT</th>\n",
       "      <th>BUILDING CLASS AT PRESENT</th>\n",
       "      <th>ADDRESS</th>\n",
       "      <th>...</th>\n",
       "      <th>RESIDENTIAL UNITS</th>\n",
       "      <th>COMMERCIAL UNITS</th>\n",
       "      <th>TOTAL UNITS</th>\n",
       "      <th>LAND SQUARE FEET</th>\n",
       "      <th>GROSS SQUARE FEET</th>\n",
       "      <th>YEAR BUILT</th>\n",
       "      <th>TAX CLASS AT TIME OF SALE</th>\n",
       "      <th>BUILDING CLASS AT TIME OF SALE</th>\n",
       "      <th>SALE PRICE</th>\n",
       "      <th>SALE DATE</th>\n",
       "    </tr>\n",
       "  </thead>\n",
       "  <tbody>\n",
       "    <tr>\n",
       "      <th>84543</th>\n",
       "      <td>8409</td>\n",
       "      <td>5</td>\n",
       "      <td>WOODROW</td>\n",
       "      <td>02 TWO FAMILY DWELLINGS</td>\n",
       "      <td>1</td>\n",
       "      <td>7349</td>\n",
       "      <td>34</td>\n",
       "      <td>NaN</td>\n",
       "      <td>B9</td>\n",
       "      <td>37 QUAIL LANE</td>\n",
       "      <td>...</td>\n",
       "      <td>2</td>\n",
       "      <td>0</td>\n",
       "      <td>2</td>\n",
       "      <td>2400</td>\n",
       "      <td>2575</td>\n",
       "      <td>1998</td>\n",
       "      <td>1</td>\n",
       "      <td>B9</td>\n",
       "      <td>450000</td>\n",
       "      <td>2016-11-28 00:00:00</td>\n",
       "    </tr>\n",
       "    <tr>\n",
       "      <th>84544</th>\n",
       "      <td>8410</td>\n",
       "      <td>5</td>\n",
       "      <td>WOODROW</td>\n",
       "      <td>02 TWO FAMILY DWELLINGS</td>\n",
       "      <td>1</td>\n",
       "      <td>7349</td>\n",
       "      <td>78</td>\n",
       "      <td>NaN</td>\n",
       "      <td>B9</td>\n",
       "      <td>32 PHEASANT LANE</td>\n",
       "      <td>...</td>\n",
       "      <td>2</td>\n",
       "      <td>0</td>\n",
       "      <td>2</td>\n",
       "      <td>2498</td>\n",
       "      <td>2377</td>\n",
       "      <td>1998</td>\n",
       "      <td>1</td>\n",
       "      <td>B9</td>\n",
       "      <td>550000</td>\n",
       "      <td>2017-04-21 00:00:00</td>\n",
       "    </tr>\n",
       "    <tr>\n",
       "      <th>84545</th>\n",
       "      <td>8411</td>\n",
       "      <td>5</td>\n",
       "      <td>WOODROW</td>\n",
       "      <td>02 TWO FAMILY DWELLINGS</td>\n",
       "      <td>1</td>\n",
       "      <td>7351</td>\n",
       "      <td>60</td>\n",
       "      <td>NaN</td>\n",
       "      <td>B2</td>\n",
       "      <td>49 PITNEY AVENUE</td>\n",
       "      <td>...</td>\n",
       "      <td>2</td>\n",
       "      <td>0</td>\n",
       "      <td>2</td>\n",
       "      <td>4000</td>\n",
       "      <td>1496</td>\n",
       "      <td>1925</td>\n",
       "      <td>1</td>\n",
       "      <td>B2</td>\n",
       "      <td>460000</td>\n",
       "      <td>2017-07-05 00:00:00</td>\n",
       "    </tr>\n",
       "    <tr>\n",
       "      <th>84546</th>\n",
       "      <td>8412</td>\n",
       "      <td>5</td>\n",
       "      <td>WOODROW</td>\n",
       "      <td>22 STORE BUILDINGS</td>\n",
       "      <td>4</td>\n",
       "      <td>7100</td>\n",
       "      <td>28</td>\n",
       "      <td>NaN</td>\n",
       "      <td>K6</td>\n",
       "      <td>2730 ARTHUR KILL ROAD</td>\n",
       "      <td>...</td>\n",
       "      <td>0</td>\n",
       "      <td>7</td>\n",
       "      <td>7</td>\n",
       "      <td>208033</td>\n",
       "      <td>64117</td>\n",
       "      <td>2001</td>\n",
       "      <td>4</td>\n",
       "      <td>K6</td>\n",
       "      <td>11693337</td>\n",
       "      <td>2016-12-21 00:00:00</td>\n",
       "    </tr>\n",
       "    <tr>\n",
       "      <th>84547</th>\n",
       "      <td>8413</td>\n",
       "      <td>5</td>\n",
       "      <td>WOODROW</td>\n",
       "      <td>35 INDOOR PUBLIC AND CULTURAL FACILITIES</td>\n",
       "      <td>4</td>\n",
       "      <td>7105</td>\n",
       "      <td>679</td>\n",
       "      <td>NaN</td>\n",
       "      <td>P9</td>\n",
       "      <td>155 CLAY PIT ROAD</td>\n",
       "      <td>...</td>\n",
       "      <td>0</td>\n",
       "      <td>1</td>\n",
       "      <td>1</td>\n",
       "      <td>10796</td>\n",
       "      <td>2400</td>\n",
       "      <td>2006</td>\n",
       "      <td>4</td>\n",
       "      <td>P9</td>\n",
       "      <td>69300</td>\n",
       "      <td>2016-10-27 00:00:00</td>\n",
       "    </tr>\n",
       "  </tbody>\n",
       "</table>\n",
       "<p>5 rows × 22 columns</p>\n",
       "</div>"
      ],
      "text/plain": [
       "       Unnamed: 0  BOROUGH NEIGHBORHOOD  \\\n",
       "84543        8409        5      WOODROW   \n",
       "84544        8410        5      WOODROW   \n",
       "84545        8411        5      WOODROW   \n",
       "84546        8412        5      WOODROW   \n",
       "84547        8413        5      WOODROW   \n",
       "\n",
       "                           BUILDING CLASS CATEGORY TAX CLASS AT PRESENT  \\\n",
       "84543  02 TWO FAMILY DWELLINGS                                        1   \n",
       "84544  02 TWO FAMILY DWELLINGS                                        1   \n",
       "84545  02 TWO FAMILY DWELLINGS                                        1   \n",
       "84546  22 STORE BUILDINGS                                             4   \n",
       "84547  35 INDOOR PUBLIC AND CULTURAL FACILITIES                       4   \n",
       "\n",
       "       BLOCK  LOT  EASE-MENT BUILDING CLASS AT PRESENT                ADDRESS  \\\n",
       "84543   7349   34        NaN                        B9          37 QUAIL LANE   \n",
       "84544   7349   78        NaN                        B9       32 PHEASANT LANE   \n",
       "84545   7351   60        NaN                        B2       49 PITNEY AVENUE   \n",
       "84546   7100   28        NaN                        K6  2730 ARTHUR KILL ROAD   \n",
       "84547   7105  679        NaN                        P9      155 CLAY PIT ROAD   \n",
       "\n",
       "       ... RESIDENTIAL UNITS  COMMERCIAL UNITS  TOTAL UNITS  LAND SQUARE FEET  \\\n",
       "84543  ...                 2                 0            2              2400   \n",
       "84544  ...                 2                 0            2              2498   \n",
       "84545  ...                 2                 0            2              4000   \n",
       "84546  ...                 0                 7            7            208033   \n",
       "84547  ...                 0                 1            1             10796   \n",
       "\n",
       "       GROSS SQUARE FEET YEAR BUILT TAX CLASS AT TIME OF SALE  \\\n",
       "84543               2575       1998                         1   \n",
       "84544               2377       1998                         1   \n",
       "84545               1496       1925                         1   \n",
       "84546              64117       2001                         4   \n",
       "84547               2400       2006                         4   \n",
       "\n",
       "       BUILDING CLASS AT TIME OF SALE  SALE PRICE            SALE DATE  \n",
       "84543                              B9      450000  2016-11-28 00:00:00  \n",
       "84544                              B9      550000  2017-04-21 00:00:00  \n",
       "84545                              B2      460000  2017-07-05 00:00:00  \n",
       "84546                              K6    11693337  2016-12-21 00:00:00  \n",
       "84547                              P9       69300  2016-10-27 00:00:00  \n",
       "\n",
       "[5 rows x 22 columns]"
      ]
     },
     "execution_count": 4,
     "metadata": {},
     "output_type": "execute_result"
    }
   ],
   "source": [
    "# Menampilkan baris 5 data terbawah\n",
    "df.tail()"
   ]
  },
  {
   "cell_type": "code",
   "execution_count": 5,
   "id": "4b05c384",
   "metadata": {},
   "outputs": [
    {
     "data": {
      "text/plain": [
       "(84548, 22)"
      ]
     },
     "execution_count": 5,
     "metadata": {},
     "output_type": "execute_result"
    }
   ],
   "source": [
    "# Melihat jumlah baris dan kolom\n",
    "df.shape"
   ]
  },
  {
   "cell_type": "markdown",
   "id": "d95db932",
   "metadata": {},
   "source": [
    "Dataset mempunyai 84548 baris dan 22 kolom"
   ]
  },
  {
   "cell_type": "code",
   "execution_count": 6,
   "id": "77b39f8c",
   "metadata": {},
   "outputs": [
    {
     "data": {
      "text/plain": [
       "Index(['Unnamed: 0', 'BOROUGH', 'NEIGHBORHOOD', 'BUILDING CLASS CATEGORY',\n",
       "       'TAX CLASS AT PRESENT', 'BLOCK', 'LOT', 'EASE-MENT',\n",
       "       'BUILDING CLASS AT PRESENT', 'ADDRESS', 'APARTMENT NUMBER', 'ZIP CODE',\n",
       "       'RESIDENTIAL UNITS', 'COMMERCIAL UNITS', 'TOTAL UNITS',\n",
       "       'LAND SQUARE FEET', 'GROSS SQUARE FEET', 'YEAR BUILT',\n",
       "       'TAX CLASS AT TIME OF SALE', 'BUILDING CLASS AT TIME OF SALE',\n",
       "       'SALE PRICE', 'SALE DATE'],\n",
       "      dtype='object')"
      ]
     },
     "execution_count": 6,
     "metadata": {},
     "output_type": "execute_result"
    }
   ],
   "source": [
    "# Menampilkan daftar kolom yang ada dari dataset\n",
    "df.columns"
   ]
  },
  {
   "cell_type": "code",
   "execution_count": 7,
   "id": "cf79979c",
   "metadata": {},
   "outputs": [
    {
     "name": "stdout",
     "output_type": "stream",
     "text": [
      "<class 'pandas.core.frame.DataFrame'>\n",
      "RangeIndex: 84548 entries, 0 to 84547\n",
      "Data columns (total 22 columns):\n",
      " #   Column                          Non-Null Count  Dtype  \n",
      "---  ------                          --------------  -----  \n",
      " 0   Unnamed: 0                      84548 non-null  int64  \n",
      " 1   BOROUGH                         84548 non-null  int64  \n",
      " 2   NEIGHBORHOOD                    84548 non-null  object \n",
      " 3   BUILDING CLASS CATEGORY         84548 non-null  object \n",
      " 4   TAX CLASS AT PRESENT            83810 non-null  object \n",
      " 5   BLOCK                           84548 non-null  int64  \n",
      " 6   LOT                             84548 non-null  int64  \n",
      " 7   EASE-MENT                       0 non-null      float64\n",
      " 8   BUILDING CLASS AT PRESENT       83810 non-null  object \n",
      " 9   ADDRESS                         84548 non-null  object \n",
      " 10  APARTMENT NUMBER                19052 non-null  object \n",
      " 11  ZIP CODE                        84548 non-null  int64  \n",
      " 12  RESIDENTIAL UNITS               84548 non-null  int64  \n",
      " 13  COMMERCIAL UNITS                84548 non-null  int64  \n",
      " 14  TOTAL UNITS                     84548 non-null  int64  \n",
      " 15  LAND SQUARE FEET                84548 non-null  object \n",
      " 16  GROSS SQUARE FEET               84548 non-null  object \n",
      " 17  YEAR BUILT                      84548 non-null  int64  \n",
      " 18  TAX CLASS AT TIME OF SALE       84548 non-null  int64  \n",
      " 19  BUILDING CLASS AT TIME OF SALE  84548 non-null  object \n",
      " 20  SALE PRICE                      84548 non-null  object \n",
      " 21  SALE DATE                       84548 non-null  object \n",
      "dtypes: float64(1), int64(10), object(11)\n",
      "memory usage: 14.2+ MB\n"
     ]
    }
   ],
   "source": [
    "# Menampilkan informasi tipe data\n",
    "df.info()"
   ]
  },
  {
   "cell_type": "markdown",
   "id": "351c70f7",
   "metadata": {},
   "source": [
    "Dataset terdiri 2 tipe data, yaitu integer dan object"
   ]
  },
  {
   "cell_type": "code",
   "execution_count": 8,
   "id": "c2e52837",
   "metadata": {},
   "outputs": [
    {
     "data": {
      "text/html": [
       "<div>\n",
       "<style scoped>\n",
       "    .dataframe tbody tr th:only-of-type {\n",
       "        vertical-align: middle;\n",
       "    }\n",
       "\n",
       "    .dataframe tbody tr th {\n",
       "        vertical-align: top;\n",
       "    }\n",
       "\n",
       "    .dataframe thead th {\n",
       "        text-align: right;\n",
       "    }\n",
       "</style>\n",
       "<table border=\"1\" class=\"dataframe\">\n",
       "  <thead>\n",
       "    <tr style=\"text-align: right;\">\n",
       "      <th></th>\n",
       "      <th>Unnamed: 0</th>\n",
       "      <th>BOROUGH</th>\n",
       "      <th>BLOCK</th>\n",
       "      <th>LOT</th>\n",
       "      <th>EASE-MENT</th>\n",
       "      <th>ZIP CODE</th>\n",
       "      <th>RESIDENTIAL UNITS</th>\n",
       "      <th>COMMERCIAL UNITS</th>\n",
       "      <th>TOTAL UNITS</th>\n",
       "      <th>YEAR BUILT</th>\n",
       "      <th>TAX CLASS AT TIME OF SALE</th>\n",
       "    </tr>\n",
       "  </thead>\n",
       "  <tbody>\n",
       "    <tr>\n",
       "      <th>count</th>\n",
       "      <td>84548.000000</td>\n",
       "      <td>84548.000000</td>\n",
       "      <td>84548.000000</td>\n",
       "      <td>84548.000000</td>\n",
       "      <td>0.0</td>\n",
       "      <td>84548.000000</td>\n",
       "      <td>84548.000000</td>\n",
       "      <td>84548.000000</td>\n",
       "      <td>84548.000000</td>\n",
       "      <td>84548.000000</td>\n",
       "      <td>84548.000000</td>\n",
       "    </tr>\n",
       "    <tr>\n",
       "      <th>mean</th>\n",
       "      <td>10344.359878</td>\n",
       "      <td>2.998758</td>\n",
       "      <td>4237.218976</td>\n",
       "      <td>376.224015</td>\n",
       "      <td>NaN</td>\n",
       "      <td>10731.991614</td>\n",
       "      <td>2.025264</td>\n",
       "      <td>0.193559</td>\n",
       "      <td>2.249184</td>\n",
       "      <td>1789.322976</td>\n",
       "      <td>1.657485</td>\n",
       "    </tr>\n",
       "    <tr>\n",
       "      <th>std</th>\n",
       "      <td>7151.779436</td>\n",
       "      <td>1.289790</td>\n",
       "      <td>3568.263407</td>\n",
       "      <td>658.136814</td>\n",
       "      <td>NaN</td>\n",
       "      <td>1290.879147</td>\n",
       "      <td>16.721037</td>\n",
       "      <td>8.713183</td>\n",
       "      <td>18.972584</td>\n",
       "      <td>537.344993</td>\n",
       "      <td>0.819341</td>\n",
       "    </tr>\n",
       "    <tr>\n",
       "      <th>min</th>\n",
       "      <td>4.000000</td>\n",
       "      <td>1.000000</td>\n",
       "      <td>1.000000</td>\n",
       "      <td>1.000000</td>\n",
       "      <td>NaN</td>\n",
       "      <td>0.000000</td>\n",
       "      <td>0.000000</td>\n",
       "      <td>0.000000</td>\n",
       "      <td>0.000000</td>\n",
       "      <td>0.000000</td>\n",
       "      <td>1.000000</td>\n",
       "    </tr>\n",
       "    <tr>\n",
       "      <th>25%</th>\n",
       "      <td>4231.000000</td>\n",
       "      <td>2.000000</td>\n",
       "      <td>1322.750000</td>\n",
       "      <td>22.000000</td>\n",
       "      <td>NaN</td>\n",
       "      <td>10305.000000</td>\n",
       "      <td>0.000000</td>\n",
       "      <td>0.000000</td>\n",
       "      <td>1.000000</td>\n",
       "      <td>1920.000000</td>\n",
       "      <td>1.000000</td>\n",
       "    </tr>\n",
       "    <tr>\n",
       "      <th>50%</th>\n",
       "      <td>8942.000000</td>\n",
       "      <td>3.000000</td>\n",
       "      <td>3311.000000</td>\n",
       "      <td>50.000000</td>\n",
       "      <td>NaN</td>\n",
       "      <td>11209.000000</td>\n",
       "      <td>1.000000</td>\n",
       "      <td>0.000000</td>\n",
       "      <td>1.000000</td>\n",
       "      <td>1940.000000</td>\n",
       "      <td>2.000000</td>\n",
       "    </tr>\n",
       "    <tr>\n",
       "      <th>75%</th>\n",
       "      <td>15987.250000</td>\n",
       "      <td>4.000000</td>\n",
       "      <td>6281.000000</td>\n",
       "      <td>1001.000000</td>\n",
       "      <td>NaN</td>\n",
       "      <td>11357.000000</td>\n",
       "      <td>2.000000</td>\n",
       "      <td>0.000000</td>\n",
       "      <td>2.000000</td>\n",
       "      <td>1965.000000</td>\n",
       "      <td>2.000000</td>\n",
       "    </tr>\n",
       "    <tr>\n",
       "      <th>max</th>\n",
       "      <td>26739.000000</td>\n",
       "      <td>5.000000</td>\n",
       "      <td>16322.000000</td>\n",
       "      <td>9106.000000</td>\n",
       "      <td>NaN</td>\n",
       "      <td>11694.000000</td>\n",
       "      <td>1844.000000</td>\n",
       "      <td>2261.000000</td>\n",
       "      <td>2261.000000</td>\n",
       "      <td>2017.000000</td>\n",
       "      <td>4.000000</td>\n",
       "    </tr>\n",
       "  </tbody>\n",
       "</table>\n",
       "</div>"
      ],
      "text/plain": [
       "         Unnamed: 0       BOROUGH         BLOCK           LOT  EASE-MENT  \\\n",
       "count  84548.000000  84548.000000  84548.000000  84548.000000        0.0   \n",
       "mean   10344.359878      2.998758   4237.218976    376.224015        NaN   \n",
       "std     7151.779436      1.289790   3568.263407    658.136814        NaN   \n",
       "min        4.000000      1.000000      1.000000      1.000000        NaN   \n",
       "25%     4231.000000      2.000000   1322.750000     22.000000        NaN   \n",
       "50%     8942.000000      3.000000   3311.000000     50.000000        NaN   \n",
       "75%    15987.250000      4.000000   6281.000000   1001.000000        NaN   \n",
       "max    26739.000000      5.000000  16322.000000   9106.000000        NaN   \n",
       "\n",
       "           ZIP CODE  RESIDENTIAL UNITS  COMMERCIAL UNITS   TOTAL UNITS  \\\n",
       "count  84548.000000       84548.000000      84548.000000  84548.000000   \n",
       "mean   10731.991614           2.025264          0.193559      2.249184   \n",
       "std     1290.879147          16.721037          8.713183     18.972584   \n",
       "min        0.000000           0.000000          0.000000      0.000000   \n",
       "25%    10305.000000           0.000000          0.000000      1.000000   \n",
       "50%    11209.000000           1.000000          0.000000      1.000000   \n",
       "75%    11357.000000           2.000000          0.000000      2.000000   \n",
       "max    11694.000000        1844.000000       2261.000000   2261.000000   \n",
       "\n",
       "         YEAR BUILT  TAX CLASS AT TIME OF SALE  \n",
       "count  84548.000000               84548.000000  \n",
       "mean    1789.322976                   1.657485  \n",
       "std      537.344993                   0.819341  \n",
       "min        0.000000                   1.000000  \n",
       "25%     1920.000000                   1.000000  \n",
       "50%     1940.000000                   2.000000  \n",
       "75%     1965.000000                   2.000000  \n",
       "max     2017.000000                   4.000000  "
      ]
     },
     "execution_count": 8,
     "metadata": {},
     "output_type": "execute_result"
    }
   ],
   "source": [
    "#melihat ringkasan statistik variabel tipe numerik\n",
    "df.describe()"
   ]
  },
  {
   "cell_type": "code",
   "execution_count": 9,
   "id": "5cb132c7",
   "metadata": {},
   "outputs": [
    {
     "data": {
      "text/html": [
       "<div>\n",
       "<style scoped>\n",
       "    .dataframe tbody tr th:only-of-type {\n",
       "        vertical-align: middle;\n",
       "    }\n",
       "\n",
       "    .dataframe tbody tr th {\n",
       "        vertical-align: top;\n",
       "    }\n",
       "\n",
       "    .dataframe thead th {\n",
       "        text-align: right;\n",
       "    }\n",
       "</style>\n",
       "<table border=\"1\" class=\"dataframe\">\n",
       "  <thead>\n",
       "    <tr style=\"text-align: right;\">\n",
       "      <th></th>\n",
       "      <th>NEIGHBORHOOD</th>\n",
       "      <th>BUILDING CLASS CATEGORY</th>\n",
       "      <th>TAX CLASS AT PRESENT</th>\n",
       "      <th>BUILDING CLASS AT PRESENT</th>\n",
       "      <th>ADDRESS</th>\n",
       "      <th>APARTMENT NUMBER</th>\n",
       "      <th>LAND SQUARE FEET</th>\n",
       "      <th>GROSS SQUARE FEET</th>\n",
       "      <th>BUILDING CLASS AT TIME OF SALE</th>\n",
       "      <th>SALE PRICE</th>\n",
       "      <th>SALE DATE</th>\n",
       "    </tr>\n",
       "  </thead>\n",
       "  <tbody>\n",
       "    <tr>\n",
       "      <th>count</th>\n",
       "      <td>84548</td>\n",
       "      <td>84548</td>\n",
       "      <td>83810</td>\n",
       "      <td>83810</td>\n",
       "      <td>84548</td>\n",
       "      <td>19052</td>\n",
       "      <td>84548</td>\n",
       "      <td>84548</td>\n",
       "      <td>84548</td>\n",
       "      <td>84548</td>\n",
       "      <td>84548</td>\n",
       "    </tr>\n",
       "    <tr>\n",
       "      <th>unique</th>\n",
       "      <td>254</td>\n",
       "      <td>47</td>\n",
       "      <td>10</td>\n",
       "      <td>166</td>\n",
       "      <td>67563</td>\n",
       "      <td>3988</td>\n",
       "      <td>6062</td>\n",
       "      <td>5691</td>\n",
       "      <td>166</td>\n",
       "      <td>10008</td>\n",
       "      <td>364</td>\n",
       "    </tr>\n",
       "    <tr>\n",
       "      <th>top</th>\n",
       "      <td>FLUSHING-NORTH</td>\n",
       "      <td>01 ONE FAMILY DWELLINGS</td>\n",
       "      <td>1</td>\n",
       "      <td>D4</td>\n",
       "      <td>131-05 40TH   ROAD</td>\n",
       "      <td>4</td>\n",
       "      <td>-</td>\n",
       "      <td>-</td>\n",
       "      <td>R4</td>\n",
       "      <td>-</td>\n",
       "      <td>2017-06-29 00:00:00</td>\n",
       "    </tr>\n",
       "    <tr>\n",
       "      <th>freq</th>\n",
       "      <td>3068</td>\n",
       "      <td>18235</td>\n",
       "      <td>38633</td>\n",
       "      <td>12663</td>\n",
       "      <td>210</td>\n",
       "      <td>298</td>\n",
       "      <td>26252</td>\n",
       "      <td>27612</td>\n",
       "      <td>12989</td>\n",
       "      <td>14561</td>\n",
       "      <td>544</td>\n",
       "    </tr>\n",
       "  </tbody>\n",
       "</table>\n",
       "</div>"
      ],
      "text/plain": [
       "          NEIGHBORHOOD                      BUILDING CLASS CATEGORY  \\\n",
       "count            84548                                        84548   \n",
       "unique             254                                           47   \n",
       "top     FLUSHING-NORTH  01 ONE FAMILY DWELLINGS                       \n",
       "freq              3068                                        18235   \n",
       "\n",
       "       TAX CLASS AT PRESENT BUILDING CLASS AT PRESENT             ADDRESS  \\\n",
       "count                 83810                     83810               84548   \n",
       "unique                   10                       166               67563   \n",
       "top                       1                        D4  131-05 40TH   ROAD   \n",
       "freq                  38633                     12663                 210   \n",
       "\n",
       "       APARTMENT NUMBER LAND SQUARE FEET GROSS SQUARE FEET  \\\n",
       "count             19052            84548             84548   \n",
       "unique             3988             6062              5691   \n",
       "top                   4              -                 -     \n",
       "freq                298            26252             27612   \n",
       "\n",
       "       BUILDING CLASS AT TIME OF SALE SALE PRICE            SALE DATE  \n",
       "count                           84548      84548                84548  \n",
       "unique                            166      10008                  364  \n",
       "top                                R4        -    2017-06-29 00:00:00  \n",
       "freq                            12989      14561                  544  "
      ]
     },
     "execution_count": 9,
     "metadata": {},
     "output_type": "execute_result"
    }
   ],
   "source": [
    "#melihat ringkasan statistik variabel tipe kategorik\n",
    "df.describe(include=\"O\")"
   ]
  },
  {
   "cell_type": "markdown",
   "id": "04bc0c5c",
   "metadata": {},
   "source": [
    "## Pre-processing"
   ]
  },
  {
   "cell_type": "markdown",
   "id": "36ceb38b",
   "metadata": {},
   "source": [
    "Menghapus kolom yang tidak diperlukan (Unnamed: 0)"
   ]
  },
  {
   "cell_type": "code",
   "execution_count": 10,
   "id": "60a1f11c",
   "metadata": {},
   "outputs": [],
   "source": [
    "df.drop([\"Unnamed: 0\"], axis=1, inplace=True)"
   ]
  },
  {
   "cell_type": "markdown",
   "id": "93583568",
   "metadata": {},
   "source": [
    "### Mengecek Tipe Data"
   ]
  },
  {
   "cell_type": "markdown",
   "id": "1d8007ae",
   "metadata": {},
   "source": [
    "Mengubah tipe data \"SALE DATE\" ke datetime"
   ]
  },
  {
   "cell_type": "code",
   "execution_count": 11,
   "id": "2141da34",
   "metadata": {},
   "outputs": [],
   "source": [
    "df[\"SALE DATE\"]= pd.to_datetime(df[\"SALE DATE\"], errors='coerce')"
   ]
  },
  {
   "cell_type": "markdown",
   "id": "e5ac5c50",
   "metadata": {},
   "source": [
    "Mengubah tipe data ke numerik"
   ]
  },
  {
   "cell_type": "code",
   "execution_count": 12,
   "id": "2b9ec098",
   "metadata": {},
   "outputs": [],
   "source": [
    "numeric = [\"RESIDENTIAL UNITS\", \"COMMERCIAL UNITS\", \"TOTAL UNITS\", \"LAND SQUARE FEET\", \"GROSS SQUARE FEET\", \"SALE PRICE\" ]\n",
    "\n",
    "for col in numeric: \n",
    "    df[col] = pd.to_numeric(df[col], errors='coerce')"
   ]
  },
  {
   "cell_type": "markdown",
   "id": "87000ddb",
   "metadata": {},
   "source": [
    "Mengubah tipe data ke kategorik"
   ]
  },
  {
   "cell_type": "code",
   "execution_count": 13,
   "id": "3010c1e7",
   "metadata": {},
   "outputs": [],
   "source": [
    "categorical = [\"BOROUGH\", \"NEIGHBORHOOD\", \"BUILDING CLASS CATEGORY\", \"TAX CLASS AT PRESENT\", \"BUILDING CLASS AT PRESENT\", \"ZIP CODE\", \"YEAR BUILT\", \"TAX CLASS AT TIME OF SALE\", \"BUILDING CLASS AT TIME OF SALE\"]\n",
    "\n",
    "for col in categorical: \n",
    "    df[col] = df[col].astype(\"category\")"
   ]
  },
  {
   "cell_type": "markdown",
   "id": "3ce1bff7",
   "metadata": {},
   "source": [
    "Mengecek kembali tipe data"
   ]
  },
  {
   "cell_type": "code",
   "execution_count": 14,
   "id": "b6cb1052",
   "metadata": {},
   "outputs": [
    {
     "name": "stdout",
     "output_type": "stream",
     "text": [
      "<class 'pandas.core.frame.DataFrame'>\n",
      "RangeIndex: 84548 entries, 0 to 84547\n",
      "Data columns (total 21 columns):\n",
      " #   Column                          Non-Null Count  Dtype         \n",
      "---  ------                          --------------  -----         \n",
      " 0   BOROUGH                         84548 non-null  category      \n",
      " 1   NEIGHBORHOOD                    84548 non-null  category      \n",
      " 2   BUILDING CLASS CATEGORY         84548 non-null  category      \n",
      " 3   TAX CLASS AT PRESENT            83810 non-null  category      \n",
      " 4   BLOCK                           84548 non-null  int64         \n",
      " 5   LOT                             84548 non-null  int64         \n",
      " 6   EASE-MENT                       0 non-null      float64       \n",
      " 7   BUILDING CLASS AT PRESENT       83810 non-null  category      \n",
      " 8   ADDRESS                         84548 non-null  object        \n",
      " 9   APARTMENT NUMBER                19052 non-null  object        \n",
      " 10  ZIP CODE                        84548 non-null  category      \n",
      " 11  RESIDENTIAL UNITS               84548 non-null  int64         \n",
      " 12  COMMERCIAL UNITS                84548 non-null  int64         \n",
      " 13  TOTAL UNITS                     84548 non-null  int64         \n",
      " 14  LAND SQUARE FEET                58296 non-null  float64       \n",
      " 15  GROSS SQUARE FEET               56936 non-null  float64       \n",
      " 16  YEAR BUILT                      84548 non-null  category      \n",
      " 17  TAX CLASS AT TIME OF SALE       84548 non-null  category      \n",
      " 18  BUILDING CLASS AT TIME OF SALE  84548 non-null  category      \n",
      " 19  SALE PRICE                      69987 non-null  float64       \n",
      " 20  SALE DATE                       84548 non-null  datetime64[ns]\n",
      "dtypes: category(9), datetime64[ns](1), float64(4), int64(5), object(2)\n",
      "memory usage: 8.9+ MB\n"
     ]
    }
   ],
   "source": [
    "df.info()"
   ]
  },
  {
   "cell_type": "markdown",
   "id": "46440424",
   "metadata": {},
   "source": [
    "Tipe data terbagi menjadi category, integer, float, object, dan datetime"
   ]
  },
  {
   "cell_type": "markdown",
   "id": "a08a1b6a",
   "metadata": {},
   "source": [
    "### Duplikasi Data"
   ]
  },
  {
   "cell_type": "code",
   "execution_count": 15,
   "id": "69daad76",
   "metadata": {},
   "outputs": [
    {
     "data": {
      "text/plain": [
       "765"
      ]
     },
     "execution_count": 15,
     "metadata": {},
     "output_type": "execute_result"
    }
   ],
   "source": [
    "#Mengecek duplikasi data\n",
    "df.duplicated().sum()"
   ]
  },
  {
   "cell_type": "markdown",
   "id": "e80e35c8",
   "metadata": {},
   "source": [
    "Terdapat 765 baris data duplikat"
   ]
  },
  {
   "cell_type": "code",
   "execution_count": 16,
   "id": "af7a22f8",
   "metadata": {},
   "outputs": [
    {
     "data": {
      "text/plain": [
       "0"
      ]
     },
     "execution_count": 16,
     "metadata": {},
     "output_type": "execute_result"
    }
   ],
   "source": [
    "#Menghapus data duplikat dan mengecek ulang duplikasi data\n",
    "df.drop_duplicates(inplace=True)\n",
    "df.duplicated().sum()"
   ]
  },
  {
   "cell_type": "markdown",
   "id": "d41ffaab",
   "metadata": {},
   "source": [
    "Sudah tidak terdapat duplikasi data"
   ]
  },
  {
   "cell_type": "markdown",
   "id": "ea68a8d8",
   "metadata": {},
   "source": [
    "### Missing Value"
   ]
  },
  {
   "cell_type": "code",
   "execution_count": 17,
   "id": "11ee964f",
   "metadata": {},
   "outputs": [
    {
     "data": {
      "text/plain": [
       "BOROUGH                               0\n",
       "NEIGHBORHOOD                          0\n",
       "BUILDING CLASS CATEGORY               0\n",
       "TAX CLASS AT PRESENT                738\n",
       "BLOCK                                 0\n",
       "LOT                                   0\n",
       "EASE-MENT                         83783\n",
       "BUILDING CLASS AT PRESENT           738\n",
       "ADDRESS                               0\n",
       "APARTMENT NUMBER                  64934\n",
       "ZIP CODE                              0\n",
       "RESIDENTIAL UNITS                     0\n",
       "COMMERCIAL UNITS                      0\n",
       "TOTAL UNITS                           0\n",
       "LAND SQUARE FEET                  26054\n",
       "GROSS SQUARE FEET                 27385\n",
       "YEAR BUILT                            0\n",
       "TAX CLASS AT TIME OF SALE             0\n",
       "BUILDING CLASS AT TIME OF SALE        0\n",
       "SALE PRICE                        14176\n",
       "SALE DATE                             0\n",
       "dtype: int64"
      ]
     },
     "execution_count": 17,
     "metadata": {},
     "output_type": "execute_result"
    }
   ],
   "source": [
    "# Mengecek missing value\n",
    "df.isnull().sum()"
   ]
  },
  {
   "cell_type": "markdown",
   "id": "8f47ff2a",
   "metadata": {},
   "source": [
    "Terlihat bahwa terdapat missing value pada 7 atribut"
   ]
  },
  {
   "cell_type": "markdown",
   "id": "c34a3182",
   "metadata": {},
   "source": [
    "#### Menangani missing value"
   ]
  },
  {
   "cell_type": "code",
   "execution_count": 18,
   "id": "def4770d",
   "metadata": {},
   "outputs": [],
   "source": [
    "#Menghapus kolom yang mengandung banyak missing value\n",
    "df.drop([\"EASE-MENT\",\"APARTMENT NUMBER\"], axis=1, inplace=True)"
   ]
  },
  {
   "cell_type": "code",
   "execution_count": 19,
   "id": "80f4499b",
   "metadata": {},
   "outputs": [],
   "source": [
    "#Melakukan imputasi pada atribut kategorik menggunakan modus\n",
    "df[\"TAX CLASS AT PRESENT\"]=df[\"TAX CLASS AT PRESENT\"].fillna(df[\"TAX CLASS AT PRESENT\"].mode())\n",
    "df[\"BUILDING CLASS AT PRESENT\"]=df[\"BUILDING CLASS AT PRESENT\"].fillna(df[\"BUILDING CLASS AT PRESENT\"].mode())"
   ]
  },
  {
   "cell_type": "code",
   "execution_count": 20,
   "id": "d9b984d0",
   "metadata": {},
   "outputs": [],
   "source": [
    "#Melakukan imputasi pada atribut kategorik menggunakan median\n",
    "df[\"LAND SQUARE FEET\"]=df[\"LAND SQUARE FEET\"].fillna(df[\"LAND SQUARE FEET\"].median())\n",
    "df[\"GROSS SQUARE FEET\"]=df[\"GROSS SQUARE FEET\"].fillna(df[\"GROSS SQUARE FEET\"].median())"
   ]
  },
  {
   "cell_type": "code",
   "execution_count": 21,
   "id": "2ec3fcb7",
   "metadata": {},
   "outputs": [],
   "source": [
    "#Menghapus baris yang mengandung missing value\n",
    "df = df.dropna()"
   ]
  },
  {
   "cell_type": "code",
   "execution_count": 22,
   "id": "baa24cdd",
   "metadata": {},
   "outputs": [
    {
     "data": {
      "text/plain": [
       "BOROUGH                           0\n",
       "NEIGHBORHOOD                      0\n",
       "BUILDING CLASS CATEGORY           0\n",
       "TAX CLASS AT PRESENT              0\n",
       "BLOCK                             0\n",
       "LOT                               0\n",
       "BUILDING CLASS AT PRESENT         0\n",
       "ADDRESS                           0\n",
       "ZIP CODE                          0\n",
       "RESIDENTIAL UNITS                 0\n",
       "COMMERCIAL UNITS                  0\n",
       "TOTAL UNITS                       0\n",
       "LAND SQUARE FEET                  0\n",
       "GROSS SQUARE FEET                 0\n",
       "YEAR BUILT                        0\n",
       "TAX CLASS AT TIME OF SALE         0\n",
       "BUILDING CLASS AT TIME OF SALE    0\n",
       "SALE PRICE                        0\n",
       "SALE DATE                         0\n",
       "dtype: int64"
      ]
     },
     "execution_count": 22,
     "metadata": {},
     "output_type": "execute_result"
    }
   ],
   "source": [
    "#Mengecek ulang missing value\n",
    "df.isnull().sum()"
   ]
  },
  {
   "cell_type": "markdown",
   "id": "c8e19652",
   "metadata": {},
   "source": [
    "Sudah tidak terdapat missing value pada data"
   ]
  },
  {
   "cell_type": "markdown",
   "id": "32926353",
   "metadata": {},
   "source": [
    "### Statistik Deskriptif"
   ]
  },
  {
   "cell_type": "code",
   "execution_count": 23,
   "id": "6970ec13",
   "metadata": {},
   "outputs": [
    {
     "data": {
      "text/html": [
       "<div>\n",
       "<style scoped>\n",
       "    .dataframe tbody tr th:only-of-type {\n",
       "        vertical-align: middle;\n",
       "    }\n",
       "\n",
       "    .dataframe tbody tr th {\n",
       "        vertical-align: top;\n",
       "    }\n",
       "\n",
       "    .dataframe thead th {\n",
       "        text-align: right;\n",
       "    }\n",
       "</style>\n",
       "<table border=\"1\" class=\"dataframe\">\n",
       "  <thead>\n",
       "    <tr style=\"text-align: right;\">\n",
       "      <th></th>\n",
       "      <th>BLOCK</th>\n",
       "      <th>LOT</th>\n",
       "      <th>RESIDENTIAL UNITS</th>\n",
       "      <th>COMMERCIAL UNITS</th>\n",
       "      <th>TOTAL UNITS</th>\n",
       "      <th>LAND SQUARE FEET</th>\n",
       "      <th>GROSS SQUARE FEET</th>\n",
       "      <th>SALE PRICE</th>\n",
       "    </tr>\n",
       "  </thead>\n",
       "  <tbody>\n",
       "    <tr>\n",
       "      <th>count</th>\n",
       "      <td>68934.000000</td>\n",
       "      <td>68934.000000</td>\n",
       "      <td>68934.000000</td>\n",
       "      <td>68934.000000</td>\n",
       "      <td>68934.000000</td>\n",
       "      <td>6.893400e+04</td>\n",
       "      <td>6.893400e+04</td>\n",
       "      <td>6.893400e+04</td>\n",
       "    </tr>\n",
       "    <tr>\n",
       "      <th>mean</th>\n",
       "      <td>4207.065425</td>\n",
       "      <td>365.869905</td>\n",
       "      <td>1.893376</td>\n",
       "      <td>0.165724</td>\n",
       "      <td>2.079424</td>\n",
       "      <td>3.190863e+03</td>\n",
       "      <td>2.973185e+03</td>\n",
       "      <td>1.270954e+06</td>\n",
       "    </tr>\n",
       "    <tr>\n",
       "      <th>std</th>\n",
       "      <td>3434.933083</td>\n",
       "      <td>652.366450</td>\n",
       "      <td>14.359786</td>\n",
       "      <td>9.041035</td>\n",
       "      <td>17.074241</td>\n",
       "      <td>3.331893e+04</td>\n",
       "      <td>2.435950e+04</td>\n",
       "      <td>1.144376e+07</td>\n",
       "    </tr>\n",
       "    <tr>\n",
       "      <th>min</th>\n",
       "      <td>1.000000</td>\n",
       "      <td>1.000000</td>\n",
       "      <td>0.000000</td>\n",
       "      <td>0.000000</td>\n",
       "      <td>0.000000</td>\n",
       "      <td>0.000000e+00</td>\n",
       "      <td>0.000000e+00</td>\n",
       "      <td>0.000000e+00</td>\n",
       "    </tr>\n",
       "    <tr>\n",
       "      <th>25%</th>\n",
       "      <td>1356.250000</td>\n",
       "      <td>21.000000</td>\n",
       "      <td>0.000000</td>\n",
       "      <td>0.000000</td>\n",
       "      <td>1.000000</td>\n",
       "      <td>1.900000e+03</td>\n",
       "      <td>1.280000e+03</td>\n",
       "      <td>2.290000e+05</td>\n",
       "    </tr>\n",
       "    <tr>\n",
       "      <th>50%</th>\n",
       "      <td>3390.000000</td>\n",
       "      <td>50.000000</td>\n",
       "      <td>1.000000</td>\n",
       "      <td>0.000000</td>\n",
       "      <td>1.000000</td>\n",
       "      <td>2.314000e+03</td>\n",
       "      <td>1.680000e+03</td>\n",
       "      <td>5.300000e+05</td>\n",
       "    </tr>\n",
       "    <tr>\n",
       "      <th>75%</th>\n",
       "      <td>6191.750000</td>\n",
       "      <td>453.000000</td>\n",
       "      <td>2.000000</td>\n",
       "      <td>0.000000</td>\n",
       "      <td>2.000000</td>\n",
       "      <td>2.504000e+03</td>\n",
       "      <td>2.070000e+03</td>\n",
       "      <td>9.500000e+05</td>\n",
       "    </tr>\n",
       "    <tr>\n",
       "      <th>max</th>\n",
       "      <td>16319.000000</td>\n",
       "      <td>9106.000000</td>\n",
       "      <td>1844.000000</td>\n",
       "      <td>2261.000000</td>\n",
       "      <td>2261.000000</td>\n",
       "      <td>4.252327e+06</td>\n",
       "      <td>3.750565e+06</td>\n",
       "      <td>2.210000e+09</td>\n",
       "    </tr>\n",
       "  </tbody>\n",
       "</table>\n",
       "</div>"
      ],
      "text/plain": [
       "              BLOCK           LOT  RESIDENTIAL UNITS  COMMERCIAL UNITS  \\\n",
       "count  68934.000000  68934.000000       68934.000000      68934.000000   \n",
       "mean    4207.065425    365.869905           1.893376          0.165724   \n",
       "std     3434.933083    652.366450          14.359786          9.041035   \n",
       "min        1.000000      1.000000           0.000000          0.000000   \n",
       "25%     1356.250000     21.000000           0.000000          0.000000   \n",
       "50%     3390.000000     50.000000           1.000000          0.000000   \n",
       "75%     6191.750000    453.000000           2.000000          0.000000   \n",
       "max    16319.000000   9106.000000        1844.000000       2261.000000   \n",
       "\n",
       "        TOTAL UNITS  LAND SQUARE FEET  GROSS SQUARE FEET    SALE PRICE  \n",
       "count  68934.000000      6.893400e+04       6.893400e+04  6.893400e+04  \n",
       "mean       2.079424      3.190863e+03       2.973185e+03  1.270954e+06  \n",
       "std       17.074241      3.331893e+04       2.435950e+04  1.144376e+07  \n",
       "min        0.000000      0.000000e+00       0.000000e+00  0.000000e+00  \n",
       "25%        1.000000      1.900000e+03       1.280000e+03  2.290000e+05  \n",
       "50%        1.000000      2.314000e+03       1.680000e+03  5.300000e+05  \n",
       "75%        2.000000      2.504000e+03       2.070000e+03  9.500000e+05  \n",
       "max     2261.000000      4.252327e+06       3.750565e+06  2.210000e+09  "
      ]
     },
     "execution_count": 23,
     "metadata": {},
     "output_type": "execute_result"
    }
   ],
   "source": [
    "df.describe()"
   ]
  },
  {
   "cell_type": "markdown",
   "id": "50ef6a93",
   "metadata": {},
   "source": [
    "Menghitung nilai 0 pada kolom"
   ]
  },
  {
   "cell_type": "code",
   "execution_count": 24,
   "id": "3bd2cdfa",
   "metadata": {},
   "outputs": [
    {
     "name": "stdout",
     "output_type": "stream",
     "text": [
      "ZIP CODE '0' Count:  396\n",
      "TOTAL UNIT '0' Count:  16910\n",
      "YEAR BUILT '0' Count:  4673\n",
      "SALE PRICE '0' Count:  9932\n"
     ]
    }
   ],
   "source": [
    "print(\"ZIP CODE '0' Count: \",df[df['ZIP CODE']==0]['ZIP CODE'].count())\n",
    "print(\"TOTAL UNIT '0' Count: \",df[df['TOTAL UNITS']==0]['TOTAL UNITS'].count())\n",
    "print(\"YEAR BUILT '0' Count: \",df[df['YEAR BUILT']==0]['YEAR BUILT'].count())\n",
    "print(\"SALE PRICE '0' Count: \",df[df['SALE PRICE']==0]['SALE PRICE'].count())"
   ]
  },
  {
   "cell_type": "markdown",
   "id": "077b2114",
   "metadata": {},
   "source": [
    "Mengganti nilai 0 dengan nan"
   ]
  },
  {
   "cell_type": "code",
   "execution_count": 25,
   "id": "8b8a2dc5",
   "metadata": {},
   "outputs": [],
   "source": [
    "df['ZIP CODE'].replace(0, np.nan, inplace=True)\n",
    "df['YEAR BUILT'].replace(0, np.nan, inplace=True)\n",
    "df['TOTAL UNITS'].replace(0, np.nan, inplace=True)\n",
    "df['SALE PRICE'].replace(0, np.nan, inplace=True)"
   ]
  },
  {
   "cell_type": "markdown",
   "id": "7a7a999e",
   "metadata": {},
   "source": [
    "Mengecek missing value"
   ]
  },
  {
   "cell_type": "code",
   "execution_count": 26,
   "id": "f5f7dede",
   "metadata": {},
   "outputs": [
    {
     "data": {
      "text/plain": [
       "BOROUGH                               0\n",
       "NEIGHBORHOOD                          0\n",
       "BUILDING CLASS CATEGORY               0\n",
       "TAX CLASS AT PRESENT                  0\n",
       "BLOCK                                 0\n",
       "LOT                                   0\n",
       "BUILDING CLASS AT PRESENT             0\n",
       "ADDRESS                               0\n",
       "ZIP CODE                            396\n",
       "RESIDENTIAL UNITS                     0\n",
       "COMMERCIAL UNITS                      0\n",
       "TOTAL UNITS                       16910\n",
       "LAND SQUARE FEET                      0\n",
       "GROSS SQUARE FEET                     0\n",
       "YEAR BUILT                         4673\n",
       "TAX CLASS AT TIME OF SALE             0\n",
       "BUILDING CLASS AT TIME OF SALE        0\n",
       "SALE PRICE                         9932\n",
       "SALE DATE                             0\n",
       "dtype: int64"
      ]
     },
     "execution_count": 26,
     "metadata": {},
     "output_type": "execute_result"
    }
   ],
   "source": [
    "df.isnull().sum()"
   ]
  },
  {
   "cell_type": "code",
   "execution_count": 27,
   "id": "facb253c",
   "metadata": {},
   "outputs": [],
   "source": [
    "#Menghapus missing value\n",
    "df.dropna(inplace=True)"
   ]
  },
  {
   "cell_type": "code",
   "execution_count": 28,
   "id": "c4cdb87a",
   "metadata": {},
   "outputs": [
    {
     "data": {
      "text/plain": [
       "BOROUGH                           0\n",
       "NEIGHBORHOOD                      0\n",
       "BUILDING CLASS CATEGORY           0\n",
       "TAX CLASS AT PRESENT              0\n",
       "BLOCK                             0\n",
       "LOT                               0\n",
       "BUILDING CLASS AT PRESENT         0\n",
       "ADDRESS                           0\n",
       "ZIP CODE                          0\n",
       "RESIDENTIAL UNITS                 0\n",
       "COMMERCIAL UNITS                  0\n",
       "TOTAL UNITS                       0\n",
       "LAND SQUARE FEET                  0\n",
       "GROSS SQUARE FEET                 0\n",
       "YEAR BUILT                        0\n",
       "TAX CLASS AT TIME OF SALE         0\n",
       "BUILDING CLASS AT TIME OF SALE    0\n",
       "SALE PRICE                        0\n",
       "SALE DATE                         0\n",
       "dtype: int64"
      ]
     },
     "execution_count": 28,
     "metadata": {},
     "output_type": "execute_result"
    }
   ],
   "source": [
    "df.isnull().sum()"
   ]
  },
  {
   "cell_type": "code",
   "execution_count": 29,
   "id": "2f42b4cd",
   "metadata": {},
   "outputs": [
    {
     "name": "stdout",
     "output_type": "stream",
     "text": [
      "<class 'pandas.core.frame.DataFrame'>\n",
      "Int64Index: 40246 entries, 0 to 84547\n",
      "Data columns (total 19 columns):\n",
      " #   Column                          Non-Null Count  Dtype         \n",
      "---  ------                          --------------  -----         \n",
      " 0   BOROUGH                         40246 non-null  category      \n",
      " 1   NEIGHBORHOOD                    40246 non-null  category      \n",
      " 2   BUILDING CLASS CATEGORY         40246 non-null  category      \n",
      " 3   TAX CLASS AT PRESENT            40246 non-null  category      \n",
      " 4   BLOCK                           40246 non-null  int64         \n",
      " 5   LOT                             40246 non-null  int64         \n",
      " 6   BUILDING CLASS AT PRESENT       40246 non-null  category      \n",
      " 7   ADDRESS                         40246 non-null  object        \n",
      " 8   ZIP CODE                        40246 non-null  category      \n",
      " 9   RESIDENTIAL UNITS               40246 non-null  int64         \n",
      " 10  COMMERCIAL UNITS                40246 non-null  int64         \n",
      " 11  TOTAL UNITS                     40246 non-null  float64       \n",
      " 12  LAND SQUARE FEET                40246 non-null  float64       \n",
      " 13  GROSS SQUARE FEET               40246 non-null  float64       \n",
      " 14  YEAR BUILT                      40246 non-null  category      \n",
      " 15  TAX CLASS AT TIME OF SALE       40246 non-null  category      \n",
      " 16  BUILDING CLASS AT TIME OF SALE  40246 non-null  category      \n",
      " 17  SALE PRICE                      40246 non-null  float64       \n",
      " 18  SALE DATE                       40246 non-null  datetime64[ns]\n",
      "dtypes: category(9), datetime64[ns](1), float64(4), int64(4), object(1)\n",
      "memory usage: 3.9+ MB\n"
     ]
    }
   ],
   "source": [
    "df.info()"
   ]
  },
  {
   "cell_type": "markdown",
   "id": "34c92887",
   "metadata": {},
   "source": [
    "#### Encoding"
   ]
  },
  {
   "cell_type": "code",
   "execution_count": 30,
   "id": "bc1c097b",
   "metadata": {},
   "outputs": [
    {
     "data": {
      "text/html": [
       "<div>\n",
       "<style scoped>\n",
       "    .dataframe tbody tr th:only-of-type {\n",
       "        vertical-align: middle;\n",
       "    }\n",
       "\n",
       "    .dataframe tbody tr th {\n",
       "        vertical-align: top;\n",
       "    }\n",
       "\n",
       "    .dataframe thead th {\n",
       "        text-align: right;\n",
       "    }\n",
       "</style>\n",
       "<table border=\"1\" class=\"dataframe\">\n",
       "  <thead>\n",
       "    <tr style=\"text-align: right;\">\n",
       "      <th></th>\n",
       "      <th>BOROUGH</th>\n",
       "      <th>NEIGHBORHOOD</th>\n",
       "      <th>BUILDING CLASS CATEGORY</th>\n",
       "      <th>TAX CLASS AT PRESENT</th>\n",
       "      <th>BLOCK</th>\n",
       "      <th>LOT</th>\n",
       "      <th>BUILDING CLASS AT PRESENT</th>\n",
       "      <th>ADDRESS</th>\n",
       "      <th>ZIP CODE</th>\n",
       "      <th>RESIDENTIAL UNITS</th>\n",
       "      <th>COMMERCIAL UNITS</th>\n",
       "      <th>TOTAL UNITS</th>\n",
       "      <th>LAND SQUARE FEET</th>\n",
       "      <th>GROSS SQUARE FEET</th>\n",
       "      <th>YEAR BUILT</th>\n",
       "      <th>TAX CLASS AT TIME OF SALE</th>\n",
       "      <th>BUILDING CLASS AT TIME OF SALE</th>\n",
       "      <th>SALE PRICE</th>\n",
       "      <th>SALE DATE</th>\n",
       "    </tr>\n",
       "  </thead>\n",
       "  <tbody>\n",
       "    <tr>\n",
       "      <th>0</th>\n",
       "      <td>Manhattan</td>\n",
       "      <td>ALPHABET CITY</td>\n",
       "      <td>07 RENTALS - WALKUP APARTMENTS</td>\n",
       "      <td>2A</td>\n",
       "      <td>392</td>\n",
       "      <td>6</td>\n",
       "      <td>C2</td>\n",
       "      <td>153 AVENUE B</td>\n",
       "      <td>10009</td>\n",
       "      <td>5</td>\n",
       "      <td>0</td>\n",
       "      <td>5.0</td>\n",
       "      <td>1633.0</td>\n",
       "      <td>6440.0</td>\n",
       "      <td>1900</td>\n",
       "      <td>2</td>\n",
       "      <td>C2</td>\n",
       "      <td>6625000.0</td>\n",
       "      <td>2017-07-19</td>\n",
       "    </tr>\n",
       "    <tr>\n",
       "      <th>3</th>\n",
       "      <td>Manhattan</td>\n",
       "      <td>ALPHABET CITY</td>\n",
       "      <td>07 RENTALS - WALKUP APARTMENTS</td>\n",
       "      <td>2B</td>\n",
       "      <td>402</td>\n",
       "      <td>21</td>\n",
       "      <td>C4</td>\n",
       "      <td>154 EAST 7TH STREET</td>\n",
       "      <td>10009</td>\n",
       "      <td>10</td>\n",
       "      <td>0</td>\n",
       "      <td>10.0</td>\n",
       "      <td>2272.0</td>\n",
       "      <td>6794.0</td>\n",
       "      <td>1913</td>\n",
       "      <td>2</td>\n",
       "      <td>C4</td>\n",
       "      <td>3936272.0</td>\n",
       "      <td>2016-09-23</td>\n",
       "    </tr>\n",
       "    <tr>\n",
       "      <th>4</th>\n",
       "      <td>Manhattan</td>\n",
       "      <td>ALPHABET CITY</td>\n",
       "      <td>07 RENTALS - WALKUP APARTMENTS</td>\n",
       "      <td>2A</td>\n",
       "      <td>404</td>\n",
       "      <td>55</td>\n",
       "      <td>C2</td>\n",
       "      <td>301 EAST 10TH   STREET</td>\n",
       "      <td>10009</td>\n",
       "      <td>6</td>\n",
       "      <td>0</td>\n",
       "      <td>6.0</td>\n",
       "      <td>2369.0</td>\n",
       "      <td>4615.0</td>\n",
       "      <td>1900</td>\n",
       "      <td>2</td>\n",
       "      <td>C2</td>\n",
       "      <td>8000000.0</td>\n",
       "      <td>2016-11-17</td>\n",
       "    </tr>\n",
       "    <tr>\n",
       "      <th>6</th>\n",
       "      <td>Manhattan</td>\n",
       "      <td>ALPHABET CITY</td>\n",
       "      <td>07 RENTALS - WALKUP APARTMENTS</td>\n",
       "      <td>2B</td>\n",
       "      <td>406</td>\n",
       "      <td>32</td>\n",
       "      <td>C4</td>\n",
       "      <td>210 AVENUE B</td>\n",
       "      <td>10009</td>\n",
       "      <td>8</td>\n",
       "      <td>0</td>\n",
       "      <td>8.0</td>\n",
       "      <td>1750.0</td>\n",
       "      <td>4226.0</td>\n",
       "      <td>1920</td>\n",
       "      <td>2</td>\n",
       "      <td>C4</td>\n",
       "      <td>3192840.0</td>\n",
       "      <td>2016-09-23</td>\n",
       "    </tr>\n",
       "    <tr>\n",
       "      <th>9</th>\n",
       "      <td>Manhattan</td>\n",
       "      <td>ALPHABET CITY</td>\n",
       "      <td>08 RENTALS - ELEVATOR APARTMENTS</td>\n",
       "      <td>2</td>\n",
       "      <td>387</td>\n",
       "      <td>153</td>\n",
       "      <td>D9</td>\n",
       "      <td>629 EAST 5TH STREET</td>\n",
       "      <td>10009</td>\n",
       "      <td>24</td>\n",
       "      <td>0</td>\n",
       "      <td>24.0</td>\n",
       "      <td>4489.0</td>\n",
       "      <td>18523.0</td>\n",
       "      <td>1920</td>\n",
       "      <td>2</td>\n",
       "      <td>D9</td>\n",
       "      <td>16232000.0</td>\n",
       "      <td>2016-11-07</td>\n",
       "    </tr>\n",
       "  </tbody>\n",
       "</table>\n",
       "</div>"
      ],
      "text/plain": [
       "     BOROUGH   NEIGHBORHOOD                      BUILDING CLASS CATEGORY  \\\n",
       "0  Manhattan  ALPHABET CITY  07 RENTALS - WALKUP APARTMENTS                \n",
       "3  Manhattan  ALPHABET CITY  07 RENTALS - WALKUP APARTMENTS                \n",
       "4  Manhattan  ALPHABET CITY  07 RENTALS - WALKUP APARTMENTS                \n",
       "6  Manhattan  ALPHABET CITY  07 RENTALS - WALKUP APARTMENTS                \n",
       "9  Manhattan  ALPHABET CITY  08 RENTALS - ELEVATOR APARTMENTS              \n",
       "\n",
       "  TAX CLASS AT PRESENT  BLOCK  LOT BUILDING CLASS AT PRESENT  \\\n",
       "0                   2A    392    6                        C2   \n",
       "3                   2B    402   21                        C4   \n",
       "4                   2A    404   55                        C2   \n",
       "6                   2B    406   32                        C4   \n",
       "9                    2    387  153                        D9   \n",
       "\n",
       "                  ADDRESS ZIP CODE  RESIDENTIAL UNITS  COMMERCIAL UNITS  \\\n",
       "0            153 AVENUE B    10009                  5                 0   \n",
       "3     154 EAST 7TH STREET    10009                 10                 0   \n",
       "4  301 EAST 10TH   STREET    10009                  6                 0   \n",
       "6            210 AVENUE B    10009                  8                 0   \n",
       "9     629 EAST 5TH STREET    10009                 24                 0   \n",
       "\n",
       "   TOTAL UNITS  LAND SQUARE FEET  GROSS SQUARE FEET YEAR BUILT  \\\n",
       "0          5.0            1633.0             6440.0       1900   \n",
       "3         10.0            2272.0             6794.0       1913   \n",
       "4          6.0            2369.0             4615.0       1900   \n",
       "6          8.0            1750.0             4226.0       1920   \n",
       "9         24.0            4489.0            18523.0       1920   \n",
       "\n",
       "  TAX CLASS AT TIME OF SALE BUILDING CLASS AT TIME OF SALE  SALE PRICE  \\\n",
       "0                         2                             C2   6625000.0   \n",
       "3                         2                             C4   3936272.0   \n",
       "4                         2                             C2   8000000.0   \n",
       "6                         2                             C4   3192840.0   \n",
       "9                         2                             D9  16232000.0   \n",
       "\n",
       "   SALE DATE  \n",
       "0 2017-07-19  \n",
       "3 2016-09-23  \n",
       "4 2016-11-17  \n",
       "6 2016-09-23  \n",
       "9 2016-11-07  "
      ]
     },
     "execution_count": 30,
     "metadata": {},
     "output_type": "execute_result"
    }
   ],
   "source": [
    "df['BOROUGH']= df['BOROUGH'].map({1:'Manhattan', 2:'Bronx', 3: 'Brooklyn', 4:'Queens', 5:'Staten Island'})\n",
    "df.head()"
   ]
  },
  {
   "cell_type": "markdown",
   "id": "f752fd06",
   "metadata": {},
   "source": [
    "## Exploratory Data Analysis"
   ]
  },
  {
   "cell_type": "markdown",
   "id": "72e97784",
   "metadata": {},
   "source": [
    "### Measure of Central Tendency"
   ]
  },
  {
   "cell_type": "markdown",
   "id": "db02620a",
   "metadata": {},
   "source": [
    "### Mean"
   ]
  },
  {
   "cell_type": "markdown",
   "id": "03d82a25",
   "metadata": {},
   "source": [
    "Mean SALE PRICE"
   ]
  },
  {
   "cell_type": "code",
   "execution_count": 31,
   "id": "ca018e82",
   "metadata": {},
   "outputs": [
    {
     "data": {
      "text/plain": [
       "1736253.3939770411"
      ]
     },
     "execution_count": 31,
     "metadata": {},
     "output_type": "execute_result"
    }
   ],
   "source": [
    "meanSP = df['SALE PRICE'].mean()\n",
    "meanSP"
   ]
  },
  {
   "cell_type": "markdown",
   "id": "79ea5134",
   "metadata": {},
   "source": [
    "Mean SALE PRICE pada setiap Borough"
   ]
  },
  {
   "cell_type": "code",
   "execution_count": 32,
   "id": "df592790",
   "metadata": {},
   "outputs": [],
   "source": [
    "mean_Manhattan = df[df['BOROUGH'] == 'Manhattan']['SALE PRICE'].mean()\n",
    "mean_Bronx = df[df['BOROUGH'] == 'Bronx']['SALE PRICE'].mean()\n",
    "mean_Brooklyn = df[df['BOROUGH'] == 'Brooklyn']['SALE PRICE'].mean()\n",
    "mean_Queens   = df[df['BOROUGH'] == 'Queens']['SALE PRICE'].mean()\n",
    "mean_StatenIsland = df[df['BOROUGH'] == 'Staten Island']['SALE PRICE'].mean()"
   ]
  },
  {
   "cell_type": "code",
   "execution_count": 33,
   "id": "8156e22a",
   "metadata": {},
   "outputs": [
    {
     "name": "stdout",
     "output_type": "stream",
     "text": [
      "Mean Manhattan     : 5883647.468092271\n",
      "Mean Bronx         : 1009309.1555915722\n",
      "Mean Brooklyn      : 1417074.1256328046\n",
      "Mean Queens        : 881846.3211438209\n",
      "Mean Staten Island  : 507942.4307234192\n"
     ]
    }
   ],
   "source": [
    "print('Mean Manhattan     :', mean_Manhattan)\n",
    "print('Mean Bronx         :', mean_Bronx)\n",
    "print('Mean Brooklyn      :', mean_Brooklyn)\n",
    "print('Mean Queens        :', mean_Queens)\n",
    "print('Mean Staten Island  :', mean_StatenIsland)"
   ]
  },
  {
   "cell_type": "markdown",
   "id": "4a837d3d",
   "metadata": {},
   "source": [
    "Rata-rata wilayah dengan sale price tertinggi adalah Manhattan, sedangkan Staten Island adalah wilayah dengan rata-rata sale price terendah"
   ]
  },
  {
   "cell_type": "code",
   "execution_count": 34,
   "id": "55f7b125",
   "metadata": {
    "scrolled": true
   },
   "outputs": [
    {
     "data": {
      "text/html": [
       "<div>\n",
       "<style scoped>\n",
       "    .dataframe tbody tr th:only-of-type {\n",
       "        vertical-align: middle;\n",
       "    }\n",
       "\n",
       "    .dataframe tbody tr th {\n",
       "        vertical-align: top;\n",
       "    }\n",
       "\n",
       "    .dataframe thead th {\n",
       "        text-align: right;\n",
       "    }\n",
       "</style>\n",
       "<table border=\"1\" class=\"dataframe\">\n",
       "  <thead>\n",
       "    <tr style=\"text-align: right;\">\n",
       "      <th></th>\n",
       "      <th>BLOCK</th>\n",
       "      <th>LOT</th>\n",
       "      <th>RESIDENTIAL UNITS</th>\n",
       "      <th>COMMERCIAL UNITS</th>\n",
       "      <th>TOTAL UNITS</th>\n",
       "      <th>LAND SQUARE FEET</th>\n",
       "      <th>GROSS SQUARE FEET</th>\n",
       "      <th>SALE PRICE</th>\n",
       "    </tr>\n",
       "    <tr>\n",
       "      <th>BOROUGH</th>\n",
       "      <th></th>\n",
       "      <th></th>\n",
       "      <th></th>\n",
       "      <th></th>\n",
       "      <th></th>\n",
       "      <th></th>\n",
       "      <th></th>\n",
       "      <th></th>\n",
       "    </tr>\n",
       "  </thead>\n",
       "  <tbody>\n",
       "    <tr>\n",
       "      <th>Manhattan</th>\n",
       "      <td>1013.148005</td>\n",
       "      <td>1142.965146</td>\n",
       "      <td>4.083179</td>\n",
       "      <td>0.368244</td>\n",
       "      <td>4.479879</td>\n",
       "      <td>2870.289274</td>\n",
       "      <td>7149.222091</td>\n",
       "      <td>5.883647e+06</td>\n",
       "    </tr>\n",
       "    <tr>\n",
       "      <th>Bronx</th>\n",
       "      <td>4152.033495</td>\n",
       "      <td>130.717180</td>\n",
       "      <td>4.185845</td>\n",
       "      <td>0.185845</td>\n",
       "      <td>4.373582</td>\n",
       "      <td>4247.046731</td>\n",
       "      <td>5268.247434</td>\n",
       "      <td>1.009309e+06</td>\n",
       "    </tr>\n",
       "    <tr>\n",
       "      <th>Brooklyn</th>\n",
       "      <td>4191.840786</td>\n",
       "      <td>366.433682</td>\n",
       "      <td>2.244009</td>\n",
       "      <td>0.138964</td>\n",
       "      <td>2.398414</td>\n",
       "      <td>2189.834374</td>\n",
       "      <td>2677.563787</td>\n",
       "      <td>1.417074e+06</td>\n",
       "    </tr>\n",
       "    <tr>\n",
       "      <th>Queens</th>\n",
       "      <td>7498.081110</td>\n",
       "      <td>251.347286</td>\n",
       "      <td>1.979531</td>\n",
       "      <td>0.317157</td>\n",
       "      <td>2.310641</td>\n",
       "      <td>3704.733901</td>\n",
       "      <td>2723.190586</td>\n",
       "      <td>8.818463e+05</td>\n",
       "    </tr>\n",
       "    <tr>\n",
       "      <th>Staten Island</th>\n",
       "      <td>3335.284813</td>\n",
       "      <td>205.475565</td>\n",
       "      <td>1.318970</td>\n",
       "      <td>0.087581</td>\n",
       "      <td>1.406201</td>\n",
       "      <td>5350.383780</td>\n",
       "      <td>2203.278683</td>\n",
       "      <td>5.079424e+05</td>\n",
       "    </tr>\n",
       "  </tbody>\n",
       "</table>\n",
       "</div>"
      ],
      "text/plain": [
       "                     BLOCK          LOT  RESIDENTIAL UNITS  COMMERCIAL UNITS  \\\n",
       "BOROUGH                                                                        \n",
       "Manhattan      1013.148005  1142.965146           4.083179          0.368244   \n",
       "Bronx          4152.033495   130.717180           4.185845          0.185845   \n",
       "Brooklyn       4191.840786   366.433682           2.244009          0.138964   \n",
       "Queens         7498.081110   251.347286           1.979531          0.317157   \n",
       "Staten Island  3335.284813   205.475565           1.318970          0.087581   \n",
       "\n",
       "               TOTAL UNITS  LAND SQUARE FEET  GROSS SQUARE FEET    SALE PRICE  \n",
       "BOROUGH                                                                        \n",
       "Manhattan         4.479879       2870.289274        7149.222091  5.883647e+06  \n",
       "Bronx             4.373582       4247.046731        5268.247434  1.009309e+06  \n",
       "Brooklyn          2.398414       2189.834374        2677.563787  1.417074e+06  \n",
       "Queens            2.310641       3704.733901        2723.190586  8.818463e+05  \n",
       "Staten Island     1.406201       5350.383780        2203.278683  5.079424e+05  "
      ]
     },
     "execution_count": 34,
     "metadata": {},
     "output_type": "execute_result"
    }
   ],
   "source": [
    "mean_borough = df.groupby('BOROUGH').mean()\n",
    "mean_borough"
   ]
  },
  {
   "cell_type": "markdown",
   "id": "f2451030",
   "metadata": {},
   "source": [
    "Secara keseluruhan, wilayah Manhattan mempunyai rata-rata tertinggi untuk lot, commercial units, total units, gross square feet, dan sale price"
   ]
  },
  {
   "cell_type": "markdown",
   "id": "84acb66d",
   "metadata": {},
   "source": [
    "### Median"
   ]
  },
  {
   "cell_type": "markdown",
   "id": "f9041537",
   "metadata": {},
   "source": [
    "Median SALE PRICE"
   ]
  },
  {
   "cell_type": "code",
   "execution_count": 35,
   "id": "81f7031b",
   "metadata": {},
   "outputs": [
    {
     "data": {
      "text/plain": [
       "685000.0"
      ]
     },
     "execution_count": 35,
     "metadata": {},
     "output_type": "execute_result"
    }
   ],
   "source": [
    "medianSP = df['SALE PRICE'].median()\n",
    "medianSP"
   ]
  },
  {
   "cell_type": "markdown",
   "id": "385ae420",
   "metadata": {},
   "source": [
    "Median SALE PRICE pada setiap Borough"
   ]
  },
  {
   "cell_type": "code",
   "execution_count": 36,
   "id": "49a6ab73",
   "metadata": {},
   "outputs": [],
   "source": [
    "med_Manhattan = df[df['BOROUGH'] == 'Manhattan']['SALE PRICE'].median()\n",
    "med_Bronx = df[df['BOROUGH'] == 'Bronx']['SALE PRICE'].median()\n",
    "med_Brooklyn = df[df['BOROUGH'] == 'Brooklyn']['SALE PRICE'].median()\n",
    "med_Queens   = df[df['BOROUGH'] == 'Queens']['SALE PRICE'].median()\n",
    "med_StatenIsland = df[df['BOROUGH'] == 'Staten Island']['SALE PRICE'].median()"
   ]
  },
  {
   "cell_type": "code",
   "execution_count": 37,
   "id": "783399b9",
   "metadata": {},
   "outputs": [
    {
     "name": "stdout",
     "output_type": "stream",
     "text": [
      "Median Manhattan     : 1890000.0\n",
      "Median Bronx         : 475000.0\n",
      "Median Brooklyn      : 850000.0\n",
      "Median Queens        : 630000.0\n",
      "Median Staten Island  : 470000.0\n"
     ]
    }
   ],
   "source": [
    "print('Median Manhattan     :', med_Manhattan)\n",
    "print('Median Bronx         :', med_Bronx)\n",
    "print('Median Brooklyn      :', med_Brooklyn)\n",
    "print('Median Queens        :', med_Queens)\n",
    "print('Median Staten Island  :', med_StatenIsland)"
   ]
  },
  {
   "cell_type": "markdown",
   "id": "53b1db18",
   "metadata": {},
   "source": [
    "Median tertinggi untuk sale price adalah Manhattan, sedangkan median terendah adalah Staten Island"
   ]
  },
  {
   "cell_type": "markdown",
   "id": "d50aa7a9",
   "metadata": {},
   "source": [
    "### Modus"
   ]
  },
  {
   "cell_type": "markdown",
   "id": "b3102dec",
   "metadata": {},
   "source": [
    "Modus pada data kategorik"
   ]
  },
  {
   "cell_type": "code",
   "execution_count": 38,
   "id": "f61cb3c4",
   "metadata": {},
   "outputs": [],
   "source": [
    "mode_borough = statistics.mode(df['BOROUGH'])\n",
    "mode_Neighborhood = statistics.mode(df['NEIGHBORHOOD'])\n",
    "mode_Bcc = statistics.mode(df['BUILDING CLASS CATEGORY'])\n",
    "mode_Tcp = statistics.mode(df['TAX CLASS AT PRESENT'])\n",
    "mode_Bcp = statistics.mode(df['BUILDING CLASS AT PRESENT'])\n",
    "mode_Zipcode = statistics.mode(df['ZIP CODE'])\n",
    "mode_Tcts = statistics.mode(df['TAX CLASS AT TIME OF SALE'])\n",
    "mode_Bcts = statistics.mode(df['BUILDING CLASS AT TIME OF SALE'])"
   ]
  },
  {
   "cell_type": "code",
   "execution_count": 39,
   "id": "12ee7b7d",
   "metadata": {},
   "outputs": [
    {
     "name": "stdout",
     "output_type": "stream",
     "text": [
      "Modus Borough                         : Queens\n",
      "Modus Neighborhood                    : FLUSHING-NORTH\n",
      "Modus Building Class Category         : 01 ONE FAMILY DWELLINGS                    \n",
      "Modus Tax Class at Present            : 1\n",
      "Modus Building Class at Present       : R4\n",
      "Modus Zip Code                        : 10314\n",
      "Modus Tax Class at Time of Sale       : 1\n",
      "Modus Building Class at Time of Sale  : R4\n"
     ]
    }
   ],
   "source": [
    "print(\"Modus Borough                         :\" , mode_borough)\n",
    "print(\"Modus Neighborhood                    :\" , mode_Neighborhood)\n",
    "print(\"Modus Building Class Category         :\" , mode_Bcc)\n",
    "print(\"Modus Tax Class at Present            :\" , mode_Tcp)\n",
    "print(\"Modus Building Class at Present       :\" , mode_Bcp)\n",
    "print(\"Modus Zip Code                        :\" , mode_Zipcode) \n",
    "print(\"Modus Tax Class at Time of Sale       :\" , mode_Tcts)\n",
    "print(\"Modus Building Class at Time of Sale  :\" , mode_Bcts)"
   ]
  },
  {
   "cell_type": "markdown",
   "id": "3d46c8a9",
   "metadata": {},
   "source": [
    "### Measure of Spread"
   ]
  },
  {
   "cell_type": "markdown",
   "id": "0bf45482",
   "metadata": {},
   "source": [
    "### Range"
   ]
  },
  {
   "cell_type": "markdown",
   "id": "47d11c34",
   "metadata": {},
   "source": [
    "Range pada SALE PRICE"
   ]
  },
  {
   "cell_type": "code",
   "execution_count": 40,
   "id": "cdaf51de",
   "metadata": {},
   "outputs": [
    {
     "data": {
      "text/plain": [
       "2209999999.0"
      ]
     },
     "execution_count": 40,
     "metadata": {},
     "output_type": "execute_result"
    }
   ],
   "source": [
    "rangeSP = np.ptp(df['SALE PRICE'])\n",
    "rangeSP"
   ]
  },
  {
   "cell_type": "markdown",
   "id": "936bfb78",
   "metadata": {},
   "source": [
    "Range pada SALE PRICE di setiap Borough"
   ]
  },
  {
   "cell_type": "code",
   "execution_count": 41,
   "id": "33c9c0c6",
   "metadata": {},
   "outputs": [
    {
     "data": {
      "text/plain": [
       "BOROUGH\n",
       "Manhattan        2.210000e+09\n",
       "Bronx            1.100000e+08\n",
       "Brooklyn         1.542500e+08\n",
       "Queens           2.575000e+08\n",
       "Staten Island    1.190000e+07\n",
       "dtype: float64"
      ]
     },
     "execution_count": 41,
     "metadata": {},
     "output_type": "execute_result"
    }
   ],
   "source": [
    "range_bor = df.groupby('BOROUGH').apply(lambda x: x['SALE PRICE'].max()-x['SALE PRICE'].min())\n",
    "range_bor"
   ]
  },
  {
   "cell_type": "markdown",
   "id": "3c02e10f",
   "metadata": {},
   "source": [
    "Range sale price antar wilayah tidak terlalu berbeda jauh antara satu sama lain"
   ]
  },
  {
   "cell_type": "markdown",
   "id": "a7291043",
   "metadata": {},
   "source": [
    "### Variance"
   ]
  },
  {
   "cell_type": "markdown",
   "id": "d5475243",
   "metadata": {},
   "source": [
    "Variansi pada setiap Borough"
   ]
  },
  {
   "cell_type": "code",
   "execution_count": 42,
   "id": "8be75e5f",
   "metadata": {},
   "outputs": [
    {
     "data": {
      "text/html": [
       "<div>\n",
       "<style scoped>\n",
       "    .dataframe tbody tr th:only-of-type {\n",
       "        vertical-align: middle;\n",
       "    }\n",
       "\n",
       "    .dataframe tbody tr th {\n",
       "        vertical-align: top;\n",
       "    }\n",
       "\n",
       "    .dataframe thead th {\n",
       "        text-align: right;\n",
       "    }\n",
       "</style>\n",
       "<table border=\"1\" class=\"dataframe\">\n",
       "  <thead>\n",
       "    <tr style=\"text-align: right;\">\n",
       "      <th></th>\n",
       "      <th>BLOCK</th>\n",
       "      <th>LOT</th>\n",
       "      <th>RESIDENTIAL UNITS</th>\n",
       "      <th>COMMERCIAL UNITS</th>\n",
       "      <th>TOTAL UNITS</th>\n",
       "      <th>LAND SQUARE FEET</th>\n",
       "      <th>GROSS SQUARE FEET</th>\n",
       "      <th>SALE PRICE</th>\n",
       "    </tr>\n",
       "    <tr>\n",
       "      <th>BOROUGH</th>\n",
       "      <th></th>\n",
       "      <th></th>\n",
       "      <th></th>\n",
       "      <th></th>\n",
       "      <th></th>\n",
       "      <th></th>\n",
       "      <th></th>\n",
       "      <th></th>\n",
       "    </tr>\n",
       "  </thead>\n",
       "  <tbody>\n",
       "    <tr>\n",
       "      <th>Manhattan</th>\n",
       "      <td>3.609365e+05</td>\n",
       "      <td>568653.710978</td>\n",
       "      <td>794.353471</td>\n",
       "      <td>32.326651</td>\n",
       "      <td>835.258394</td>\n",
       "      <td>3.425828e+07</td>\n",
       "      <td>2.146288e+09</td>\n",
       "      <td>1.376651e+15</td>\n",
       "    </tr>\n",
       "    <tr>\n",
       "      <th>Bronx</th>\n",
       "      <td>1.002876e+06</td>\n",
       "      <td>92195.676543</td>\n",
       "      <td>620.439378</td>\n",
       "      <td>0.881421</td>\n",
       "      <td>641.232190</td>\n",
       "      <td>3.494294e+08</td>\n",
       "      <td>6.986901e+08</td>\n",
       "      <td>1.391382e+13</td>\n",
       "    </tr>\n",
       "    <tr>\n",
       "      <th>Brooklyn</th>\n",
       "      <td>7.130768e+06</td>\n",
       "      <td>296600.237016</td>\n",
       "      <td>40.653306</td>\n",
       "      <td>0.423941</td>\n",
       "      <td>41.238435</td>\n",
       "      <td>1.207181e+08</td>\n",
       "      <td>1.176627e+08</td>\n",
       "      <td>1.767520e+13</td>\n",
       "    </tr>\n",
       "    <tr>\n",
       "      <th>Queens</th>\n",
       "      <td>1.910812e+07</td>\n",
       "      <td>266987.998987</td>\n",
       "      <td>317.216249</td>\n",
       "      <td>409.375674</td>\n",
       "      <td>732.262921</td>\n",
       "      <td>1.394026e+09</td>\n",
       "      <td>1.179701e+09</td>\n",
       "      <td>1.178321e+13</td>\n",
       "    </tr>\n",
       "    <tr>\n",
       "      <th>Staten Island</th>\n",
       "      <td>5.392821e+06</td>\n",
       "      <td>191465.115950</td>\n",
       "      <td>7.357070</td>\n",
       "      <td>5.664017</td>\n",
       "      <td>12.862477</td>\n",
       "      <td>2.266014e+09</td>\n",
       "      <td>1.983861e+08</td>\n",
       "      <td>2.114774e+11</td>\n",
       "    </tr>\n",
       "  </tbody>\n",
       "</table>\n",
       "</div>"
      ],
      "text/plain": [
       "                      BLOCK            LOT  RESIDENTIAL UNITS  \\\n",
       "BOROUGH                                                         \n",
       "Manhattan      3.609365e+05  568653.710978         794.353471   \n",
       "Bronx          1.002876e+06   92195.676543         620.439378   \n",
       "Brooklyn       7.130768e+06  296600.237016          40.653306   \n",
       "Queens         1.910812e+07  266987.998987         317.216249   \n",
       "Staten Island  5.392821e+06  191465.115950           7.357070   \n",
       "\n",
       "               COMMERCIAL UNITS  TOTAL UNITS  LAND SQUARE FEET  \\\n",
       "BOROUGH                                                          \n",
       "Manhattan             32.326651   835.258394      3.425828e+07   \n",
       "Bronx                  0.881421   641.232190      3.494294e+08   \n",
       "Brooklyn               0.423941    41.238435      1.207181e+08   \n",
       "Queens               409.375674   732.262921      1.394026e+09   \n",
       "Staten Island          5.664017    12.862477      2.266014e+09   \n",
       "\n",
       "               GROSS SQUARE FEET    SALE PRICE  \n",
       "BOROUGH                                         \n",
       "Manhattan           2.146288e+09  1.376651e+15  \n",
       "Bronx               6.986901e+08  1.391382e+13  \n",
       "Brooklyn            1.176627e+08  1.767520e+13  \n",
       "Queens              1.179701e+09  1.178321e+13  \n",
       "Staten Island       1.983861e+08  2.114774e+11  "
      ]
     },
     "execution_count": 42,
     "metadata": {},
     "output_type": "execute_result"
    }
   ],
   "source": [
    "var = df.groupby('BOROUGH').var()\n",
    "var"
   ]
  },
  {
   "cell_type": "markdown",
   "id": "19b6b01f",
   "metadata": {},
   "source": [
    "Hampir semua wilayah mempunyai variansi yang tinggi"
   ]
  },
  {
   "cell_type": "markdown",
   "id": "0f012384",
   "metadata": {},
   "source": [
    "### Standar Deviation"
   ]
  },
  {
   "cell_type": "markdown",
   "id": "1f9057e5",
   "metadata": {},
   "source": [
    "Standar deviasi pada setiap Borough"
   ]
  },
  {
   "cell_type": "code",
   "execution_count": 43,
   "id": "c5acb41a",
   "metadata": {},
   "outputs": [
    {
     "data": {
      "text/html": [
       "<div>\n",
       "<style scoped>\n",
       "    .dataframe tbody tr th:only-of-type {\n",
       "        vertical-align: middle;\n",
       "    }\n",
       "\n",
       "    .dataframe tbody tr th {\n",
       "        vertical-align: top;\n",
       "    }\n",
       "\n",
       "    .dataframe thead th {\n",
       "        text-align: right;\n",
       "    }\n",
       "</style>\n",
       "<table border=\"1\" class=\"dataframe\">\n",
       "  <thead>\n",
       "    <tr style=\"text-align: right;\">\n",
       "      <th></th>\n",
       "      <th>BLOCK</th>\n",
       "      <th>LOT</th>\n",
       "      <th>RESIDENTIAL UNITS</th>\n",
       "      <th>COMMERCIAL UNITS</th>\n",
       "      <th>TOTAL UNITS</th>\n",
       "      <th>LAND SQUARE FEET</th>\n",
       "      <th>GROSS SQUARE FEET</th>\n",
       "      <th>SALE PRICE</th>\n",
       "    </tr>\n",
       "    <tr>\n",
       "      <th>BOROUGH</th>\n",
       "      <th></th>\n",
       "      <th></th>\n",
       "      <th></th>\n",
       "      <th></th>\n",
       "      <th></th>\n",
       "      <th></th>\n",
       "      <th></th>\n",
       "      <th></th>\n",
       "    </tr>\n",
       "  </thead>\n",
       "  <tbody>\n",
       "    <tr>\n",
       "      <th>Manhattan</th>\n",
       "      <td>600.779875</td>\n",
       "      <td>754.091315</td>\n",
       "      <td>28.184277</td>\n",
       "      <td>5.685653</td>\n",
       "      <td>28.900837</td>\n",
       "      <td>5853.057261</td>\n",
       "      <td>46328.046735</td>\n",
       "      <td>3.710324e+07</td>\n",
       "    </tr>\n",
       "    <tr>\n",
       "      <th>Bronx</th>\n",
       "      <td>1001.436973</td>\n",
       "      <td>303.637410</td>\n",
       "      <td>24.908621</td>\n",
       "      <td>0.938840</td>\n",
       "      <td>25.322563</td>\n",
       "      <td>18693.030042</td>\n",
       "      <td>26432.746555</td>\n",
       "      <td>3.730124e+06</td>\n",
       "    </tr>\n",
       "    <tr>\n",
       "      <th>Brooklyn</th>\n",
       "      <td>2670.349820</td>\n",
       "      <td>544.610170</td>\n",
       "      <td>6.375994</td>\n",
       "      <td>0.651108</td>\n",
       "      <td>6.421716</td>\n",
       "      <td>10987.178304</td>\n",
       "      <td>10847.245897</td>\n",
       "      <td>4.204189e+06</td>\n",
       "    </tr>\n",
       "    <tr>\n",
       "      <th>Queens</th>\n",
       "      <td>4371.284046</td>\n",
       "      <td>516.708815</td>\n",
       "      <td>17.810566</td>\n",
       "      <td>20.233034</td>\n",
       "      <td>27.060357</td>\n",
       "      <td>37336.655697</td>\n",
       "      <td>34346.770801</td>\n",
       "      <td>3.432667e+06</td>\n",
       "    </tr>\n",
       "    <tr>\n",
       "      <th>Staten Island</th>\n",
       "      <td>2322.244847</td>\n",
       "      <td>437.567270</td>\n",
       "      <td>2.712392</td>\n",
       "      <td>2.379920</td>\n",
       "      <td>3.586430</td>\n",
       "      <td>47602.672160</td>\n",
       "      <td>14084.961703</td>\n",
       "      <td>4.598667e+05</td>\n",
       "    </tr>\n",
       "  </tbody>\n",
       "</table>\n",
       "</div>"
      ],
      "text/plain": [
       "                     BLOCK         LOT  RESIDENTIAL UNITS  COMMERCIAL UNITS  \\\n",
       "BOROUGH                                                                       \n",
       "Manhattan       600.779875  754.091315          28.184277          5.685653   \n",
       "Bronx          1001.436973  303.637410          24.908621          0.938840   \n",
       "Brooklyn       2670.349820  544.610170           6.375994          0.651108   \n",
       "Queens         4371.284046  516.708815          17.810566         20.233034   \n",
       "Staten Island  2322.244847  437.567270           2.712392          2.379920   \n",
       "\n",
       "               TOTAL UNITS  LAND SQUARE FEET  GROSS SQUARE FEET    SALE PRICE  \n",
       "BOROUGH                                                                        \n",
       "Manhattan        28.900837       5853.057261       46328.046735  3.710324e+07  \n",
       "Bronx            25.322563      18693.030042       26432.746555  3.730124e+06  \n",
       "Brooklyn          6.421716      10987.178304       10847.245897  4.204189e+06  \n",
       "Queens           27.060357      37336.655697       34346.770801  3.432667e+06  \n",
       "Staten Island     3.586430      47602.672160       14084.961703  4.598667e+05  "
      ]
     },
     "execution_count": 43,
     "metadata": {},
     "output_type": "execute_result"
    }
   ],
   "source": [
    "sd = df.groupby('BOROUGH').std()\n",
    "sd"
   ]
  },
  {
   "cell_type": "markdown",
   "id": "3ea274b2",
   "metadata": {},
   "source": [
    "Hampir semua wilayah mempunyai standar deviasi yang tinggi"
   ]
  },
  {
   "cell_type": "markdown",
   "id": "13c7de03",
   "metadata": {},
   "source": [
    "### Probability Distribution"
   ]
  },
  {
   "cell_type": "markdown",
   "id": "f9eda153",
   "metadata": {},
   "source": [
    "Distribusi Probabilitas dari Sale Price di Brooklyn"
   ]
  },
  {
   "cell_type": "code",
   "execution_count": 44,
   "id": "8dcc7e59",
   "metadata": {},
   "outputs": [
    {
     "name": "stderr",
     "output_type": "stream",
     "text": [
      "C:\\Users\\FARADILLA\\anaconda3\\lib\\site-packages\\seaborn\\distributions.py:2557: FutureWarning: `distplot` is a deprecated function and will be removed in a future version. Please adapt your code to use either `displot` (a figure-level function with similar flexibility) or `histplot` (an axes-level function for histograms).\n",
      "  warnings.warn(msg, FutureWarning)\n"
     ]
    },
    {
     "data": {
      "text/plain": [
       "[Text(0.5, 0, 'SALE PRICE'),\n",
       " Text(0, 0.5, 'Frequency'),\n",
       " Text(0.5, 1.0, 'Distribution of Sale Price in Brooklyn')]"
      ]
     },
     "execution_count": 44,
     "metadata": {},
     "output_type": "execute_result"
    },
    {
     "data": {
      "image/png": "[encoded data removed]",
      "text/plain": [
       "<Figure size 432x288 with 1 Axes>"
      ]
     },
     "metadata": {
      "needs_background": "light"
     },
     "output_type": "display_data"
    }
   ],
   "source": [
    "df_bor = df.groupby(\"BOROUGH\")\n",
    "bro = df_bor.get_group('Brooklyn')\n",
    "\n",
    "ax = sns.distplot(bro['SALE PRICE'],\n",
    "                  kde=True,\n",
    "                  color='skyblue',\n",
    "                  hist_kws={\"linewidth\": 15,'alpha':1})\n",
    "ax.set(xlabel='SALE PRICE', ylabel='Frequency', title='Distribution of Sale Price in Brooklyn')"
   ]
  },
  {
   "cell_type": "markdown",
   "id": "a96f4ceb",
   "metadata": {},
   "source": [
    "Mengambil data SALE PRICE dalam range 10.000 - 16.000.000"
   ]
  },
  {
   "cell_type": "code",
   "execution_count": 45,
   "id": "4b9435c3",
   "metadata": {},
   "outputs": [],
   "source": [
    "data_bro = bro[(bro['SALE PRICE'] > 10000) & (bro['SALE PRICE'] < 16000000)]"
   ]
  },
  {
   "cell_type": "code",
   "execution_count": 46,
   "id": "71c63ef0",
   "metadata": {},
   "outputs": [
    {
     "name": "stderr",
     "output_type": "stream",
     "text": [
      "C:\\Users\\FARADILLA\\anaconda3\\lib\\site-packages\\seaborn\\distributions.py:2557: FutureWarning: `distplot` is a deprecated function and will be removed in a future version. Please adapt your code to use either `displot` (a figure-level function with similar flexibility) or `histplot` (an axes-level function for histograms).\n",
      "  warnings.warn(msg, FutureWarning)\n"
     ]
    },
    {
     "data": {
      "text/plain": [
       "<AxesSubplot:xlabel='SALE PRICE', ylabel='Density'>"
      ]
     },
     "execution_count": 46,
     "metadata": {},
     "output_type": "execute_result"
    },
    {
     "data": {
      "image/png": "[encoded data removed]",
      "text/plain": [
       "<Figure size 432x288 with 1 Axes>"
      ]
     },
     "metadata": {
      "needs_background": "light"
     },
     "output_type": "display_data"
    }
   ],
   "source": [
    "sns.distplot(data_bro['SALE PRICE'],\n",
    "                  kde=True,\n",
    "                  color='skyblue',\n",
    "                  hist_kws={\"linewidth\": 15,'alpha':1})"
   ]
  },
  {
   "cell_type": "markdown",
   "id": "c506ffcb",
   "metadata": {},
   "source": [
    "Melakukan transformasi data ke bentuk logaritma dari data asli"
   ]
  },
  {
   "cell_type": "code",
   "execution_count": 47,
   "id": "4dae3e64",
   "metadata": {},
   "outputs": [
    {
     "name": "stderr",
     "output_type": "stream",
     "text": [
      "<ipython-input-47-9dce3ead9122>:1: SettingWithCopyWarning: \n",
      "A value is trying to be set on a copy of a slice from a DataFrame.\n",
      "Try using .loc[row_indexer,col_indexer] = value instead\n",
      "\n",
      "See the caveats in the documentation: https://pandas.pydata.org/pandas-docs/stable/user_guide/indexing.html#returning-a-view-versus-a-copy\n",
      "  data_bro['SALE PRICE'] = np.log(data_bro['SALE PRICE'])\n"
     ]
    }
   ],
   "source": [
    "data_bro['SALE PRICE'] = np.log(data_bro['SALE PRICE'])"
   ]
  },
  {
   "cell_type": "code",
   "execution_count": 48,
   "id": "e1c94554",
   "metadata": {},
   "outputs": [
    {
     "name": "stderr",
     "output_type": "stream",
     "text": [
      "C:\\Users\\FARADILLA\\anaconda3\\lib\\site-packages\\seaborn\\distributions.py:2557: FutureWarning: `distplot` is a deprecated function and will be removed in a future version. Please adapt your code to use either `displot` (a figure-level function with similar flexibility) or `histplot` (an axes-level function for histograms).\n",
      "  warnings.warn(msg, FutureWarning)\n"
     ]
    },
    {
     "data": {
      "text/plain": [
       "[Text(0.5, 0, 'SALE PRICE'),\n",
       " Text(0, 0.5, 'Frequency'),\n",
       " Text(0.5, 1.0, 'Distribution of Sale Price in Brooklyn')]"
      ]
     },
     "execution_count": 48,
     "metadata": {},
     "output_type": "execute_result"
    },
    {
     "data": {
      "image/png": "[encoded data removed]",
      "text/plain": [
       "<Figure size 432x288 with 1 Axes>"
      ]
     },
     "metadata": {
      "needs_background": "light"
     },
     "output_type": "display_data"
    }
   ],
   "source": [
    "ax = sns.distplot(data_bro['SALE PRICE'], kde=True)\n",
    "ax.set(xlabel='SALE PRICE', ylabel='Frequency', title='Distribution of Sale Price in Brooklyn')"
   ]
  },
  {
   "cell_type": "markdown",
   "id": "4c59cc4b",
   "metadata": {},
   "source": [
    "Distribusi Sale Price di Brooklyn mengikuti Distribusi Normal"
   ]
  },
  {
   "cell_type": "markdown",
   "id": "81fec878",
   "metadata": {},
   "source": [
    "### Confidence Intervals"
   ]
  },
  {
   "cell_type": "markdown",
   "id": "df6ccc50",
   "metadata": {},
   "source": [
    "Bagaimana CI untuk SALE PRICE di Brooklyn?"
   ]
  },
  {
   "cell_type": "code",
   "execution_count": 49,
   "id": "44697406",
   "metadata": {},
   "outputs": [
    {
     "data": {
      "text/html": [
       "<div>\n",
       "<style scoped>\n",
       "    .dataframe tbody tr th:only-of-type {\n",
       "        vertical-align: middle;\n",
       "    }\n",
       "\n",
       "    .dataframe tbody tr th {\n",
       "        vertical-align: top;\n",
       "    }\n",
       "\n",
       "    .dataframe thead tr th {\n",
       "        text-align: left;\n",
       "    }\n",
       "\n",
       "    .dataframe thead tr:last-of-type th {\n",
       "        text-align: right;\n",
       "    }\n",
       "</style>\n",
       "<table border=\"1\" class=\"dataframe\">\n",
       "  <thead>\n",
       "    <tr>\n",
       "      <th></th>\n",
       "      <th colspan=\"3\" halign=\"left\">SALE PRICE</th>\n",
       "    </tr>\n",
       "    <tr>\n",
       "      <th></th>\n",
       "      <th>mean</th>\n",
       "      <th>std</th>\n",
       "      <th>size</th>\n",
       "    </tr>\n",
       "    <tr>\n",
       "      <th>BOROUGH</th>\n",
       "      <th></th>\n",
       "      <th></th>\n",
       "      <th></th>\n",
       "    </tr>\n",
       "  </thead>\n",
       "  <tbody>\n",
       "    <tr>\n",
       "      <th>Manhattan</th>\n",
       "      <td>5.883647e+06</td>\n",
       "      <td>3.710324e+07</td>\n",
       "      <td>5939.0</td>\n",
       "    </tr>\n",
       "    <tr>\n",
       "      <th>Bronx</th>\n",
       "      <td>1.009309e+06</td>\n",
       "      <td>3.730124e+06</td>\n",
       "      <td>3702.0</td>\n",
       "    </tr>\n",
       "    <tr>\n",
       "      <th>Brooklyn</th>\n",
       "      <td>1.417074e+06</td>\n",
       "      <td>4.204189e+06</td>\n",
       "      <td>11852.0</td>\n",
       "    </tr>\n",
       "    <tr>\n",
       "      <th>Queens</th>\n",
       "      <td>8.818463e+05</td>\n",
       "      <td>3.432667e+06</td>\n",
       "      <td>13044.0</td>\n",
       "    </tr>\n",
       "    <tr>\n",
       "      <th>Staten Island</th>\n",
       "      <td>5.079424e+05</td>\n",
       "      <td>4.598667e+05</td>\n",
       "      <td>5709.0</td>\n",
       "    </tr>\n",
       "  </tbody>\n",
       "</table>\n",
       "</div>"
      ],
      "text/plain": [
       "                 SALE PRICE                       \n",
       "                       mean           std     size\n",
       "BOROUGH                                           \n",
       "Manhattan      5.883647e+06  3.710324e+07   5939.0\n",
       "Bronx          1.009309e+06  3.730124e+06   3702.0\n",
       "Brooklyn       1.417074e+06  4.204189e+06  11852.0\n",
       "Queens         8.818463e+05  3.432667e+06  13044.0\n",
       "Staten Island  5.079424e+05  4.598667e+05   5709.0"
      ]
     },
     "execution_count": 49,
     "metadata": {},
     "output_type": "execute_result"
    }
   ],
   "source": [
    "df.groupby(\"BOROUGH\").agg({\"SALE PRICE\":[np.mean, np.std, np.size]})"
   ]
  },
  {
   "cell_type": "code",
   "execution_count": 50,
   "id": "fee55766",
   "metadata": {},
   "outputs": [
    {
     "data": {
      "text/html": [
       "<div>\n",
       "<style scoped>\n",
       "    .dataframe tbody tr th:only-of-type {\n",
       "        vertical-align: middle;\n",
       "    }\n",
       "\n",
       "    .dataframe tbody tr th {\n",
       "        vertical-align: top;\n",
       "    }\n",
       "\n",
       "    .dataframe thead th {\n",
       "        text-align: right;\n",
       "    }\n",
       "</style>\n",
       "<table border=\"1\" class=\"dataframe\">\n",
       "  <thead>\n",
       "    <tr style=\"text-align: right;\">\n",
       "      <th></th>\n",
       "      <th>count</th>\n",
       "      <th>mean</th>\n",
       "      <th>std</th>\n",
       "      <th>min</th>\n",
       "      <th>25%</th>\n",
       "      <th>50%</th>\n",
       "      <th>75%</th>\n",
       "      <th>max</th>\n",
       "    </tr>\n",
       "    <tr>\n",
       "      <th>BOROUGH</th>\n",
       "      <th></th>\n",
       "      <th></th>\n",
       "      <th></th>\n",
       "      <th></th>\n",
       "      <th></th>\n",
       "      <th></th>\n",
       "      <th></th>\n",
       "      <th></th>\n",
       "    </tr>\n",
       "  </thead>\n",
       "  <tbody>\n",
       "    <tr>\n",
       "      <th>Manhattan</th>\n",
       "      <td>5939.0</td>\n",
       "      <td>5.883647e+06</td>\n",
       "      <td>3.710324e+07</td>\n",
       "      <td>1.0</td>\n",
       "      <td>995000.0</td>\n",
       "      <td>1890000.0</td>\n",
       "      <td>4500000.0</td>\n",
       "      <td>2.210000e+09</td>\n",
       "    </tr>\n",
       "    <tr>\n",
       "      <th>Bronx</th>\n",
       "      <td>3702.0</td>\n",
       "      <td>1.009309e+06</td>\n",
       "      <td>3.730124e+06</td>\n",
       "      <td>1.0</td>\n",
       "      <td>345000.0</td>\n",
       "      <td>475000.0</td>\n",
       "      <td>625000.0</td>\n",
       "      <td>1.100000e+08</td>\n",
       "    </tr>\n",
       "    <tr>\n",
       "      <th>Brooklyn</th>\n",
       "      <td>11852.0</td>\n",
       "      <td>1.417074e+06</td>\n",
       "      <td>4.204189e+06</td>\n",
       "      <td>1.0</td>\n",
       "      <td>538490.5</td>\n",
       "      <td>850000.0</td>\n",
       "      <td>1370000.0</td>\n",
       "      <td>1.542500e+08</td>\n",
       "    </tr>\n",
       "    <tr>\n",
       "      <th>Queens</th>\n",
       "      <td>13044.0</td>\n",
       "      <td>8.818463e+05</td>\n",
       "      <td>3.432667e+06</td>\n",
       "      <td>1.0</td>\n",
       "      <td>427000.0</td>\n",
       "      <td>630000.0</td>\n",
       "      <td>875000.0</td>\n",
       "      <td>2.575000e+08</td>\n",
       "    </tr>\n",
       "    <tr>\n",
       "      <th>Staten Island</th>\n",
       "      <td>5709.0</td>\n",
       "      <td>5.079424e+05</td>\n",
       "      <td>4.598667e+05</td>\n",
       "      <td>1.0</td>\n",
       "      <td>340000.0</td>\n",
       "      <td>470000.0</td>\n",
       "      <td>600000.0</td>\n",
       "      <td>1.190000e+07</td>\n",
       "    </tr>\n",
       "  </tbody>\n",
       "</table>\n",
       "</div>"
      ],
      "text/plain": [
       "                 count          mean           std  min       25%        50%  \\\n",
       "BOROUGH                                                                        \n",
       "Manhattan       5939.0  5.883647e+06  3.710324e+07  1.0  995000.0  1890000.0   \n",
       "Bronx           3702.0  1.009309e+06  3.730124e+06  1.0  345000.0   475000.0   \n",
       "Brooklyn       11852.0  1.417074e+06  4.204189e+06  1.0  538490.5   850000.0   \n",
       "Queens         13044.0  8.818463e+05  3.432667e+06  1.0  427000.0   630000.0   \n",
       "Staten Island   5709.0  5.079424e+05  4.598667e+05  1.0  340000.0   470000.0   \n",
       "\n",
       "                     75%           max  \n",
       "BOROUGH                                 \n",
       "Manhattan      4500000.0  2.210000e+09  \n",
       "Bronx           625000.0  1.100000e+08  \n",
       "Brooklyn       1370000.0  1.542500e+08  \n",
       "Queens          875000.0  2.575000e+08  \n",
       "Staten Island   600000.0  1.190000e+07  "
      ]
     },
     "execution_count": 50,
     "metadata": {},
     "output_type": "execute_result"
    }
   ],
   "source": [
    "df.groupby(\"BOROUGH\")[\"SALE PRICE\"].describe()"
   ]
  },
  {
   "cell_type": "code",
   "execution_count": 51,
   "id": "ef7b0386",
   "metadata": {},
   "outputs": [
    {
     "name": "stdout",
     "output_type": "stream",
     "text": [
      "Mean Brooklyn:  1417074.0\n",
      "Standar Deviasi:  4204189.0\n",
      "Banyaknya Brooklyn:  11852\n",
      "Z-Score:  1.96\n",
      "standar error:  38617.70051095806\n"
     ]
    }
   ],
   "source": [
    "mean_brooklyn = 1.417074e+06\n",
    "sd = 4.204189e+06\n",
    "n = 11852     \n",
    "z = 1.96\n",
    "se = sd/np.sqrt(n)\n",
    "print('Mean Brooklyn: ', mean_brooklyn)\n",
    "print('Standar Deviasi: ', sd)\n",
    "print('Banyaknya Brooklyn: ',n)\n",
    "print('Z-Score: ', z)\n",
    "print('standar error: ', se)"
   ]
  },
  {
   "cell_type": "code",
   "execution_count": 52,
   "id": "a6bcdd9a",
   "metadata": {},
   "outputs": [
    {
     "name": "stdout",
     "output_type": "stream",
     "text": [
      "lower limit of CI:  1341383.3069985223\n",
      "upper limit of CI:  1492764.6930014777\n"
     ]
    }
   ],
   "source": [
    "print('lower limit of CI: ',mean_brooklyn-z*se)\n",
    "print('upper limit of CI: ',mean_brooklyn+z*se)"
   ]
  },
  {
   "cell_type": "markdown",
   "id": "6288addf",
   "metadata": {},
   "source": [
    "Diperoleh CI untuk SALE PRICE di Brooklyn adalah 1341383.30 - 1492764.69"
   ]
  },
  {
   "cell_type": "markdown",
   "id": "3ce42c52",
   "metadata": {},
   "source": [
    "### Hypothesis Testing"
   ]
  },
  {
   "cell_type": "markdown",
   "id": "a0d9506c",
   "metadata": {},
   "source": [
    "Apakah Brooklyn mempunyai Sale Price rata-rata yang lebih tinggi dari Bronx? "
   ]
  },
  {
   "cell_type": "code",
   "execution_count": 53,
   "id": "f27febcd",
   "metadata": {},
   "outputs": [],
   "source": [
    "import statsmodels.api as sm"
   ]
  },
  {
   "cell_type": "code",
   "execution_count": 54,
   "id": "12244ac8",
   "metadata": {},
   "outputs": [],
   "source": [
    "bronx = df[df[\"BOROUGH\"] == \"Bronx\"]\n",
    "brooklyn = df[df[\"BOROUGH\"] == \"Brooklyn\"]"
   ]
  },
  {
   "cell_type": "code",
   "execution_count": 55,
   "id": "d63415b2",
   "metadata": {},
   "outputs": [
    {
     "data": {
      "text/plain": [
       "(3702, 1009309.1555915722, 3730123.768093132)"
      ]
     },
     "execution_count": 55,
     "metadata": {},
     "output_type": "execute_result"
    }
   ],
   "source": [
    "n1 = len(bronx)\n",
    "mu1 = bronx[\"SALE PRICE\"].mean()\n",
    "sd1 = bronx[\"SALE PRICE\"].std()\n",
    "\n",
    "(n1, mu1, sd1)"
   ]
  },
  {
   "cell_type": "code",
   "execution_count": 56,
   "id": "23c4b223",
   "metadata": {},
   "outputs": [
    {
     "data": {
      "text/plain": [
       "(11852, 1417074.1256328046, 4204188.928488716)"
      ]
     },
     "execution_count": 56,
     "metadata": {},
     "output_type": "execute_result"
    }
   ],
   "source": [
    "n2 = len(brooklyn)\n",
    "mu2 = brooklyn[\"SALE PRICE\"].mean()\n",
    "sd2 = brooklyn[\"SALE PRICE\"].std()\n",
    "\n",
    "(n2, mu2, sd2)"
   ]
  },
  {
   "cell_type": "code",
   "execution_count": 57,
   "id": "6a8e5798",
   "metadata": {},
   "outputs": [
    {
     "data": {
      "text/plain": [
       "(-5.2869571970483795, 1.243677256715241e-07)"
      ]
     },
     "execution_count": 57,
     "metadata": {},
     "output_type": "execute_result"
    }
   ],
   "source": [
    "sm.stats.ztest(bronx[\"SALE PRICE\"].dropna(), \n",
    "brooklyn[\"SALE PRICE\"].dropna(),alternative='two-sided')"
   ]
  },
  {
   "cell_type": "markdown",
   "id": "cd445e54",
   "metadata": {},
   "source": [
    "Karena p-value (1.24e-07) sangat kecil, kita dapat reject the Null hypothesis bahwa rata-rata Sale Price Brooklyn sama dengan Bronx. Alternative=\"two-sided\" digunakan dalam z-test karena di sini memeriksa ketidaksamaan."
   ]
  },
  {
   "cell_type": "markdown",
   "id": "6cc3348f",
   "metadata": {},
   "source": [
    "### Normality Tests"
   ]
  },
  {
   "cell_type": "markdown",
   "id": "b7221b33",
   "metadata": {},
   "source": [
    "Saphiro-Wilk Test"
   ]
  },
  {
   "cell_type": "markdown",
   "id": "0d58bf6b",
   "metadata": {},
   "source": [
    "**Assumptions**\n",
    "- Observations in each sample are independent and identically distributed (iid).\n",
    "\n",
    "**Interpretation**\n",
    "- H0: the sample has a Gaussian distribution.\n",
    "- H1: the sample does not have a Gaussian distribution."
   ]
  },
  {
   "cell_type": "code",
   "execution_count": 58,
   "id": "997161a7",
   "metadata": {},
   "outputs": [
    {
     "name": "stdout",
     "output_type": "stream",
     "text": [
      "stat=0.078, p=0.000\n",
      "Probably not Gaussian\n"
     ]
    },
    {
     "name": "stderr",
     "output_type": "stream",
     "text": [
      "C:\\Users\\FARADILLA\\anaconda3\\lib\\site-packages\\scipy\\stats\\morestats.py:1681: UserWarning: p-value may not be accurate for N > 5000.\n",
      "  warnings.warn(\"p-value may not be accurate for N > 5000.\")\n"
     ]
    }
   ],
   "source": [
    "from scipy.stats import shapiro\n",
    "data = df[df['BOROUGH'] == 'Queens']['SALE PRICE']\n",
    "stat, p = shapiro(data)\n",
    "print('stat=%.3f, p=%.3f' % (stat, p))\n",
    "if p > 0.05:\n",
    "    print('Probably Gaussian')\n",
    "else:\n",
    "    print('Probably not Gaussian')"
   ]
  },
  {
   "cell_type": "markdown",
   "id": "dda2e6fd",
   "metadata": {},
   "source": [
    "Karena p-value 0.000 maka H0 ditolak yang berarti bahwa sampel tidak berdistribusi Gaussian"
   ]
  }
 ],
 "metadata": {
  "kernelspec": {
   "display_name": "Python 3 (ipykernel)",
   "language": "python",
   "name": "python3"
  },
  "language_info": {
   "codemirror_mode": {
    "name": "ipython",
    "version": 3
   },
   "file_extension": ".py",
   "mimetype": "text/x-python",
   "name": "python",
   "nbconvert_exporter": "python",
   "pygments_lexer": "ipython3",
   "version": "3.9.7"
  }
 },
 "nbformat": 4,
 "nbformat_minor": 5
}
